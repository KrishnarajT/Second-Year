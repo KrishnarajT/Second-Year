{
 "cells": [
  {
   "cell_type": "markdown",
   "metadata": {},
   "source": [
    "# Operating Systems"
   ]
  },
  {
   "cell_type": "markdown",
   "metadata": {},
   "source": [
    "What is an operating system? \n",
    "\n",
    "1. It is a program that acts as an intermediary between a user and the hardware.\n",
    "2.  It is also the program taht controls the execution of application programs.\n",
    "3.  It allocates resources efficiently \n",
    "\n",
    "The main Objective is convenience, efficiency and providing an environment. It has a kernel, and is always running all the time. "
   ]
  },
  {
   "cell_type": "markdown",
   "metadata": {},
   "source": [
    "## System Calls\n",
    "\n",
    "System calls are what are called by the operating system to the kernel. When you say things like printf and all they then invoke system calls \n",
    "Examples are read(), write() etc"
   ]
  },
  {
   "cell_type": "markdown",
   "metadata": {},
   "source": [
    "## Shell?\n",
    "The shell is simply another program on top of the kernel which provides a basic human os interface. \n",
    "1. It is a command interpreter\n",
    "2. Enables users to run services provided by the UNIX OS\n",
    "   \n",
    "### Functionality\n",
    "1. Command Interpreter\n",
    "2. Interface\n",
    "3. Programming Language. "
   ]
  },
  {
   "cell_type": "markdown",
   "metadata": {},
   "source": []
  }
 ],
 "metadata": {
  "language_info": {
   "name": "python"
  },
  "orig_nbformat": 4
 },
 "nbformat": 4,
 "nbformat_minor": 2
}
