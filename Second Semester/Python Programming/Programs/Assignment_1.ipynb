{
 "cells": [
  {
   "cell_type": "markdown",
   "metadata": {},
   "source": [
    "# Learning Basics of Python - Assignment 1\n",
    "\n",
    "\n",
    "Assignment 1\n",
    "\n",
    "Krishnaraj Thadesar\n",
    "\n",
    "Batch A1, PA20 CSE CSF\n",
    "\n",
    "Semester 3 Second Year"
   ]
  },
  {
   "cell_type": "markdown",
   "metadata": {},
   "source": [
    "# Theory for Python, written in Jupyter Notebook"
   ]
  },
  {
   "cell_type": "markdown",
   "metadata": {},
   "source": [
    "## Introduction to Python\n",
    "\n",
    "*Python* is a general-purpose programming language that is becoming increasingly popular in scientific computing. It is a high-level language, meaning that it is easy to read and write, and it is interpreted, meaning that it does not need to be compiled before it is run. Python is also an object-oriented language, meaning that it allows the user to define new types of objects and to create instances of those objects. \n",
    "\n",
    "Python is a dynamically typed language, meaning that the type of a variable is determined at run time, rather than at compile time. Python is a multi-paradigm language, meaning that it supports multiple programming styles, including object-oriented, imperative, and functional programming. Python is a multi-platform language, meaning that it can be run on a variety of operating systems, including Windows, Mac OS X, and Linux."
   ]
  },
  {
   "cell_type": "markdown",
   "metadata": {},
   "source": [
    "## Assigning Values to Variables"
   ]
  },
  {
   "cell_type": "code",
   "execution_count": null,
   "metadata": {},
   "outputs": [
    {
     "name": "stdout",
     "output_type": "stream",
     "text": [
      "100\n",
      "1000.0\n",
      "John\n"
     ]
    }
   ],
   "source": [
    "counter = 100 # An integer assignment\n",
    "miles = 1000.0 # A floating point\n",
    "name = \"John\" # A string\n",
    "print(counter)\n",
    "print(miles)\n",
    "print(name)"
   ]
  },
  {
   "cell_type": "markdown",
   "metadata": {},
   "source": [
    "Here, 100, 1000.0 and \"John\" are the values assigned to counter, miles,\n",
    "and name variables, respectively.\n",
    "\n",
    "## Multiple Assignment\n",
    "\n",
    "Python allows you to assign a single value to several variables simultaneously.\n",
    "For example −"
   ]
  },
  {
   "cell_type": "code",
   "execution_count": null,
   "metadata": {},
   "outputs": [
    {
     "name": "stdout",
     "output_type": "stream",
     "text": [
      "1 1 1 1 2 john\n"
     ]
    }
   ],
   "source": [
    "a = b = c = 1\n",
    "d, e, f = 1, 2, \"john\"\n",
    "print(a, b, c, d, e, f)"
   ]
  },
  {
   "cell_type": "markdown",
   "metadata": {},
   "source": [
    "Here, two integer objects with values 1 and 2 are assigned to variables a and b respectively,\n",
    "and one string object with the value \"john\" is assigned to the variable c.\n",
    "\n",
    "## Standard Data Types\n",
    "\n",
    "Python has five standard data types −\n",
    "* Numbers\n",
    "* String\n",
    "* List\n",
    "* Tuple\n",
    "* Dictionary\n",
    "\n",
    "## Python Numbers\n",
    "Number data types store numeric values. Number objects are created when you assign a\n",
    "value to them. For example −\n"
   ]
  },
  {
   "cell_type": "code",
   "execution_count": null,
   "metadata": {},
   "outputs": [],
   "source": [
    "var1 = 1\n",
    "var2 = 10"
   ]
  },
  {
   "cell_type": "markdown",
   "metadata": {},
   "source": [
    "Python supports four different numerical types −\n",
    "\n",
    "* int (signed integers)\n",
    "* long (long integers, they can also be represented in octal and hexadecimal)\n",
    "* float (floating point real values)\n",
    "* complex (complex numbers)\n",
    "\n",
    "Here are some examples to show these types −\n",
    "\n",
    "## Python Strings\n",
    "\n",
    "Strings in Python are identified as a contiguous set of characters represented in the\n",
    "quotation marks. Python allows for either pairs of single or double quotes. Subsets of\n",
    "strings can be taken using the slice operator ([ ] and [:] ) with indexes starting at 0 in\n",
    "the beginning of the string and working their way from -1 at the end.\n",
    "\n",
    "\n",
    "The plus (+) sign is the string concatenation operator and the asterisk (*) is the repetition operator. For example −\n",
    "\n",
    "## Python Lists\n",
    "\n",
    "Lists are the most versatile of Python's compound data types. A list contains items separated by commas and enclosed within square brackets ([]). To some extent, lists are similar to arrays in C. One difference between them is that all the items belonging to a list can be of different data type.\n",
    "\n",
    "The values stored in a list can be accessed using the slice operator ([ ] and [:]) with indexes starting at 0 in the beginning of the list and working their way to end -1. The plus (+) sign is the list concatenation operator, and the asterisk (*) is the repetition operator. For example −\n",
    "\n",
    "## Python Tuples\n",
    "\n",
    "A tuple is another sequence data type that is similar to the list. A tuple consists of a number of values separated by commas. Unlike lists, however, tuples are enclosed within parentheses.\n",
    "\n",
    "The main differences between lists and tuples are: Lists are enclosed in brackets ( [ ] ) and their elements and size can be changed, while tuples are enclosed in parentheses ( ( ) ) and cannot be updated. Tuples can be thought of as read-only lists. For example −\n",
    "\n",
    "## Python Dictionary\n",
    "\n",
    "Python's dictionaries are kind of hash table type. They work like associative arrays or associative memories, depending on your background. Dictionaries consist of key-value pairs. A dictionary key can be almost any Python type, but are usually numbers or strings. Values, on the other hand, can be any arbitrary Python object.\n",
    "\n",
    "Dictionaries are enclosed by curly braces ({ }) and values can be assigned and accessed using square braces ([]). For example −\n",
    "\n",
    "# User Input\n",
    "\n",
    "While programming, we might want to take the input from the user. Taking input is a way\n",
    "of interact with users, or get data to provide some result. In Python two built-in methods\n",
    "are provided to read the data from the keyboard, the input() and raw_input() function.\n",
    "\n",
    "*input()* - Python provides a simple framework for getting user input in the form of\n",
    "the *input()* function. The *input()* function reads a line from the console, converts it\n",
    "into a string, and returns it. When the *input()* function is called, the program flow\n",
    "halts until the user enters some input. The user then adds some information and\n",
    "presses the Enter key. The input function returns to the program with the entered\n",
    "string.\n",
    "\n",
    "## Examples"
   ]
  },
  {
   "cell_type": "code",
   "execution_count": null,
   "metadata": {},
   "outputs": [
    {
     "name": "stdout",
     "output_type": "stream",
     "text": [
      "You Entered Name: Krishnaraj\n"
     ]
    }
   ],
   "source": [
    "a = input(\"Enter name: \")\n",
    "print(\"You Entered Name:\", a)"
   ]
  },
  {
   "cell_type": "code",
   "execution_count": null,
   "metadata": {},
   "outputs": [
    {
     "name": "stdout",
     "output_type": "stream",
     "text": [
      "You Entered Number: 123\n",
      "<class 'str'>\n"
     ]
    }
   ],
   "source": [
    "num = input(\"Enter a number: \")\n",
    "print(\"You Entered Number:\",num)\n",
    "print(type(num))"
   ]
  },
  {
   "cell_type": "markdown",
   "metadata": {},
   "source": [
    "In the above example2, we have used the input() function to take input from the\n",
    "user and stored the user input in the num variable.It is important to note that the\n",
    "entered value 10 is a string, not a number. So, type(num) returns <class 'str'>.\n",
    "\n",
    "### Accepting Multiple Values from User\n",
    "\n",
    "We can also ask for multiple values directly on a single line with only one call to\n",
    "the input() function. For example, let’s get some information about a student from\n",
    "the user and store it in different variables. split()function helps in getting multiple\n",
    "inputs from users. It breaks the given input by the specified separator. If a separator\n",
    "is not provided then any white space is a separator. Generally, users use a split()\n",
    "method to split a Python string but one can use it in taking multiple inputs."
   ]
  },
  {
   "cell_type": "code",
   "execution_count": null,
   "metadata": {},
   "outputs": [
    {
     "name": "stdout",
     "output_type": "stream",
     "text": [
      "Student Name: Krish\n",
      "Student Age: 20\n",
      "Student Score: 8\n"
     ]
    }
   ],
   "source": [
    "name, age, score = input(\"Enter student's name, age and score separated by space:\").split()\n",
    "print(\"Student Name:\", name)\n",
    "print(\"Student Age:\", age)\n",
    "print(\"Student Score:\", score)"
   ]
  },
  {
   "cell_type": "markdown",
   "metadata": {},
   "source": [
    "# Assignment"
   ]
  },
  {
   "cell_type": "code",
   "execution_count": 1,
   "metadata": {},
   "outputs": [
    {
     "name": "stdout",
     "output_type": "stream",
     "text": [
      "hello world\n"
     ]
    }
   ],
   "source": [
    "print(\"hello world\")"
   ]
  },
  {
   "cell_type": "markdown",
   "metadata": {},
   "source": [
    "### Declaring Variables"
   ]
  },
  {
   "cell_type": "code",
   "execution_count": 2,
   "metadata": {},
   "outputs": [
    {
     "name": "stdout",
     "output_type": "stream",
     "text": [
      "1\n",
      "1.5\n",
      "hello\n"
     ]
    }
   ],
   "source": [
    "a = 1\n",
    "print(a)\n",
    "a = 1.5\n",
    "print(a)\n",
    "b = \"hello\"\n",
    "print(b)"
   ]
  },
  {
   "cell_type": "markdown",
   "metadata": {},
   "source": [
    "### To find the type of the Variable"
   ]
  },
  {
   "cell_type": "code",
   "execution_count": 3,
   "metadata": {},
   "outputs": [
    {
     "name": "stdout",
     "output_type": "stream",
     "text": [
      "<class 'float'>\n",
      "<class 'str'>\n"
     ]
    }
   ],
   "source": [
    "print(type(a))\n",
    "print(type(b))"
   ]
  },
  {
   "cell_type": "markdown",
   "metadata": {},
   "source": [
    "### Taking Inputs"
   ]
  },
  {
   "cell_type": "code",
   "execution_count": 5,
   "metadata": {},
   "outputs": [
    {
     "name": "stdout",
     "output_type": "stream",
     "text": [
      "1 2\n",
      "The sum of the two number is:  3\n"
     ]
    }
   ],
   "source": [
    "a = int(input(\"enter a number\"))\n",
    "b = int(input(\"enter another number\"))\n",
    "print(a, b)\n",
    "print(\"The sum of the two number is: \", a + b)"
   ]
  },
  {
   "cell_type": "code",
   "execution_count": 6,
   "metadata": {},
   "outputs": [
    {
     "name": "stdout",
     "output_type": "stream",
     "text": [
      "1.45 35.3\n",
      "The sum of the two number is:  36.75\n"
     ]
    }
   ],
   "source": [
    "a = float(input(\"enter a number\"))\n",
    "b = float(input(\"enter another number\"))\n",
    "print(a, b)\n",
    "print(\"The sum of the two number is: \", a + b)"
   ]
  },
  {
   "cell_type": "markdown",
   "metadata": {},
   "source": [
    "### Multiple Inputs"
   ]
  },
  {
   "cell_type": "code",
   "execution_count": 7,
   "metadata": {},
   "outputs": [
    {
     "name": "stdout",
     "output_type": "stream",
     "text": [
      "1 2 3\n"
     ]
    }
   ],
   "source": [
    "x, y, z = input(\"Enter 3 numbers\").split()\n",
    "print(x, y, z)\n"
   ]
  },
  {
   "cell_type": "code",
   "execution_count": 8,
   "metadata": {},
   "outputs": [
    {
     "name": "stdout",
     "output_type": "stream",
     "text": [
      "[100, 101, 102, 104, 103, 117]\n"
     ]
    }
   ],
   "source": [
    "# Trying to convert the input to int using list comprehension\n",
    "a = \"a, b, c, e, d, r\"\n",
    "some_list = [ord(i) + 3 % 26 for i in a.split(', ')]\n",
    "print(some_list)"
   ]
  },
  {
   "cell_type": "code",
   "execution_count": 9,
   "metadata": {},
   "outputs": [
    {
     "name": "stdout",
     "output_type": "stream",
     "text": [
      "Available\n",
      "None\n"
     ]
    }
   ],
   "source": [
    "# Trying Piece of code to learn about list and the None type in python. \n",
    "drink = \"Available\"\n",
    "food = None\n",
    "def menu(x):\n",
    "    if x == drink:\n",
    "        print(drink)\n",
    "    else: \n",
    "        print(food)\n",
    "        \n",
    "menu(drink)\n",
    "menu(food)"
   ]
  }
 ],
 "metadata": {
  "kernelspec": {
   "display_name": "Python 3 (ipykernel)",
   "language": "python",
   "name": "python3"
  },
  "language_info": {
   "codemirror_mode": {
    "name": "ipython",
    "version": 3
   },
   "file_extension": ".py",
   "mimetype": "text/x-python",
   "name": "python",
   "nbconvert_exporter": "python",
   "pygments_lexer": "ipython3",
   "version": "3.10.9"
  },
  "vscode": {
   "interpreter": {
    "hash": "a4b77f993ba6b6ea4eb3761684e7ca501a2543df44d76187b7f760112c07c75c"
   }
  }
 },
 "nbformat": 4,
 "nbformat_minor": 2
}
