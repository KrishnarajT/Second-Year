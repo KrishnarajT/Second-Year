{
 "cells": [
  {
   "cell_type": "markdown",
   "metadata": {},
   "source": [
    "# Assignment 4 - Lists"
   ]
  },
  {
   "cell_type": "code",
   "execution_count": 1,
   "metadata": {},
   "outputs": [],
   "source": [
    "# declaring an empty list\n",
    "my_list = []"
   ]
  },
  {
   "cell_type": "markdown",
   "metadata": {},
   "source": [
    "## Trying different functions on the list"
   ]
  },
  {
   "cell_type": "code",
   "execution_count": 2,
   "metadata": {},
   "outputs": [
    {
     "name": "stdout",
     "output_type": "stream",
     "text": [
      "How many values do you want to append to the list?\n",
      "Enter the value to append\n",
      "Enter the value to append\n",
      "Enter the value to append\n",
      "Enter the value to append\n",
      "The list after appending is:  [1, 2, 4, 3]\n",
      "The length of the list is:  4\n"
     ]
    }
   ],
   "source": [
    "# append\n",
    "print(\"How many values do you want to append to the list?\")\n",
    "values = int(input())\n",
    "for i in range(values):\n",
    "    print(\"Enter the value to append\")\n",
    "    value = int(input())\n",
    "    my_list.append(value)\n",
    "print(\"The list after appending is: \", my_list)\n",
    "print(\"The length of the list is: \", len(my_list))"
   ]
  },
  {
   "cell_type": "code",
   "execution_count": 3,
   "metadata": {},
   "outputs": [
    {
     "name": "stdout",
     "output_type": "stream",
     "text": [
      "The list after inserting is:  ['Something to insert', 1, 2, 4, 3]\n",
      "The length of the list is:  5\n"
     ]
    }
   ],
   "source": [
    "\n",
    "\n",
    "# insert\n",
    "# Inserting a value at a specific index\n",
    "my_list.insert(0, \"Something to insert\")\n",
    "print(\"The list after inserting is: \", my_list)\n",
    "print(\"The length of the list is: \", len(my_list))\n",
    "\n"
   ]
  },
  {
   "cell_type": "code",
   "execution_count": 4,
   "metadata": {},
   "outputs": [
    {
     "name": "stdout",
     "output_type": "stream",
     "text": [
      "The list after removing is:  [1, 2, 4, 3]\n",
      "The length of the list is:  4\n"
     ]
    }
   ],
   "source": [
    "\n",
    "\n",
    "# remove\n",
    "\n",
    "my_list.remove(\"Something to insert\")\n",
    "print(\"The list after removing is: \", my_list)\n",
    "print(\"The length of the list is: \", len(my_list))\n",
    "\n"
   ]
  },
  {
   "cell_type": "code",
   "execution_count": 5,
   "metadata": {},
   "outputs": [
    {
     "name": "stdout",
     "output_type": "stream",
     "text": [
      "just removed 3\n",
      "The list after popping is:  [1, 2, 4]\n",
      "The length of the list is:  3\n"
     ]
    }
   ],
   "source": [
    "\n",
    "\n",
    "# pop\n",
    "\n",
    "print(\"just removed\", my_list.pop())\n",
    "print(\"The list after popping is: \", my_list)\n",
    "print(\"The length of the list is: \", len(my_list))\n",
    "\n"
   ]
  },
  {
   "cell_type": "code",
   "execution_count": 6,
   "metadata": {},
   "outputs": [
    {
     "name": "stdout",
     "output_type": "stream",
     "text": [
      "The list before sorting is:  [1, 2, 4]\n",
      "The list after sorting is:  None\n"
     ]
    }
   ],
   "source": [
    "\n",
    "\n",
    "# sort\n",
    "\n",
    "print(\"The list before sorting is: \", my_list)\n",
    "print(\"The list after sorting is: \", my_list.sort())\n",
    "\n"
   ]
  },
  {
   "cell_type": "code",
   "execution_count": 7,
   "metadata": {},
   "outputs": [
    {
     "name": "stdout",
     "output_type": "stream",
     "text": [
      "The list before reversing is:  [1, 2, 4]\n",
      "The list after reversing is:  None\n"
     ]
    }
   ],
   "source": [
    "\n",
    "\n",
    "# reverse\n",
    "\n",
    "print(\"The list before reversing is: \", my_list)\n",
    "print(\"The list after reversing is: \", my_list.reverse())\n",
    "\n"
   ]
  },
  {
   "cell_type": "code",
   "execution_count": 9,
   "metadata": {},
   "outputs": [
    {
     "name": "stdout",
     "output_type": "stream",
     "text": [
      "The indices of the list are: \n",
      "0 4\n",
      "1 2\n",
      "2 1\n",
      "The value at index 1 is:  2\n"
     ]
    }
   ],
   "source": [
    "\n",
    "# index\n",
    "\n",
    "print(\"The indices of the list are: \")\n",
    "for _, i in enumerate(my_list):\n",
    "    print(_, i)\n",
    "    \n",
    "print(\"The value at index 1 is: \", my_list.index(1))\n"
   ]
  },
  {
   "cell_type": "code",
   "execution_count": 10,
   "metadata": {},
   "outputs": [
    {
     "name": "stdout",
     "output_type": "stream",
     "text": [
      "The number of times 1 appears in the list is:  1\n"
     ]
    }
   ],
   "source": [
    "\n",
    "# count\n",
    "print(\"The number of times 1 appears in the list is: \", my_list.count(1))\n",
    "\n"
   ]
  },
  {
   "cell_type": "code",
   "execution_count": 11,
   "metadata": {},
   "outputs": [
    {
     "name": "stdout",
     "output_type": "stream",
     "text": [
      "The list before extending is:  [4, 2, 1]\n",
      "The length of the list is:  3\n",
      "The list after extending is:  [4, 2, 1, 1, 2, 3]\n"
     ]
    }
   ],
   "source": [
    "# extend\n",
    "print(\"The list before extending is: \", my_list)\n",
    "print(\"The length of the list is: \", len(my_list))\n",
    "my_list.extend([1, 2, 3])\n",
    "print(\"The list after extending is: \", my_list)"
   ]
  }
 ],
 "metadata": {
  "kernelspec": {
   "display_name": "Python 3.10.9 ('UniEnv': venv)",
   "language": "python",
   "name": "python3"
  },
  "language_info": {
   "codemirror_mode": {
    "name": "ipython",
    "version": 3
   },
   "file_extension": ".py",
   "mimetype": "text/x-python",
   "name": "python",
   "nbconvert_exporter": "python",
   "pygments_lexer": "ipython3",
   "version": "3.10.9"
  },
  "orig_nbformat": 4,
  "vscode": {
   "interpreter": {
    "hash": "a4b77f993ba6b6ea4eb3761684e7ca501a2543df44d76187b7f760112c07c75c"
   }
  }
 },
 "nbformat": 4,
 "nbformat_minor": 2
}
