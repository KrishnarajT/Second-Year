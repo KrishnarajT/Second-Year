{
 "cells": [
  {
   "cell_type": "markdown",
   "metadata": {},
   "source": [
    "# Assignment 4 - Lists"
   ]
  },
  {
   "cell_type": "code",
   "execution_count": 1,
   "metadata": {},
   "outputs": [],
   "source": [
    "# declaring an empty list\n",
    "my_list = []"
   ]
  },
  {
   "cell_type": "markdown",
   "metadata": {},
   "source": [
    "## Trying different functions on the list"
   ]
  },
  {
   "cell_type": "code",
   "execution_count": 2,
   "metadata": {},
   "outputs": [
    {
     "name": "stdout",
     "output_type": "stream",
     "text": [
      "How many values do you want to append to the list?\n",
      "Enter the value to append\n",
      "Enter the value to append\n",
      "Enter the value to append\n",
      "Enter the value to append\n",
      "The list after appending is:  [1, 2, 4, 3]\n",
      "The length of the list is:  4\n"
     ]
    }
   ],
   "source": [
    "# append\n",
    "print(\"How many values do you want to append to the list?\")\n",
    "values = int(input())\n",
    "for i in range(values):\n",
    "    print(\"Enter the value to append\")\n",
    "    value = int(input())\n",
    "    my_list.append(value)\n",
    "print(\"The list after appending is: \", my_list)\n",
    "print(\"The length of the list is: \", len(my_list))"
   ]
  },
  {
   "cell_type": "code",
   "execution_count": 3,
   "metadata": {},
   "outputs": [
    {
     "name": "stdout",
     "output_type": "stream",
     "text": [
      "The list after inserting is:  ['Something to insert', 1, 2, 4, 3]\n",
      "The length of the list is:  5\n"
     ]
    }
   ],
   "source": [
    "# insert\n",
    "# Inserting a value at a specific index\n",
    "my_list.insert(0, \"Something to insert\")\n",
    "print(\"The list after inserting is: \", my_list)\n",
    "print(\"The length of the list is: \", len(my_list))"
   ]
  },
  {
   "cell_type": "code",
   "execution_count": 4,
   "metadata": {},
   "outputs": [
    {
     "name": "stdout",
     "output_type": "stream",
     "text": [
      "The list after removing is:  [1, 2, 4, 3]\n",
      "The length of the list is:  4\n"
     ]
    }
   ],
   "source": [
    "# remove\n",
    "my_list.remove(\"Something to insert\")\n",
    "print(\"The list after removing is: \", my_list)\n",
    "print(\"The length of the list is: \", len(my_list))"
   ]
  },
  {
   "cell_type": "code",
   "execution_count": 5,
   "metadata": {},
   "outputs": [
    {
     "name": "stdout",
     "output_type": "stream",
     "text": [
      "just removed 3\n",
      "The list after popping is:  [1, 2, 4]\n",
      "The length of the list is:  3\n"
     ]
    }
   ],
   "source": [
    "# pop\n",
    "\n",
    "print(\"just removed\", my_list.pop())\n",
    "print(\"The list after popping is: \", my_list)\n",
    "print(\"The length of the list is: \", len(my_list))"
   ]
  },
  {
   "cell_type": "code",
   "execution_count": 6,
   "metadata": {},
   "outputs": [
    {
     "name": "stdout",
     "output_type": "stream",
     "text": [
      "The list before sorting is:  [1, 2, 4]\n",
      "The list after sorting is:  None\n"
     ]
    }
   ],
   "source": [
    "# sort\n",
    "\n",
    "print(\"The list before sorting is: \", my_list)\n",
    "print(\"The list after sorting is: \", my_list.sort())"
   ]
  },
  {
   "cell_type": "code",
   "execution_count": 7,
   "metadata": {},
   "outputs": [
    {
     "name": "stdout",
     "output_type": "stream",
     "text": [
      "The list before reversing is:  [1, 2, 4]\n",
      "The list after reversing is:  None\n"
     ]
    }
   ],
   "source": [
    "# reverse\n",
    "\n",
    "print(\"The list before reversing is: \", my_list)\n",
    "print(\"The list after reversing is: \", my_list.reverse())"
   ]
  },
  {
   "cell_type": "code",
   "execution_count": 9,
   "metadata": {},
   "outputs": [
    {
     "name": "stdout",
     "output_type": "stream",
     "text": [
      "The indices of the list are: \n",
      "0 4\n",
      "1 2\n",
      "2 1\n",
      "The value at index 1 is:  2\n"
     ]
    }
   ],
   "source": [
    "# index\n",
    "\n",
    "print(\"The indices of the list are: \")\n",
    "for _, i in enumerate(my_list):\n",
    "    print(_, i)\n",
    "    \n",
    "print(\"The value at index 1 is: \", my_list.index(1))"
   ]
  },
  {
   "cell_type": "code",
   "execution_count": 10,
   "metadata": {},
   "outputs": [
    {
     "name": "stdout",
     "output_type": "stream",
     "text": [
      "The number of times 1 appears in the list is:  1\n"
     ]
    }
   ],
   "source": [
    "# count\n",
    "print(\"The number of times 1 appears in the list is: \", my_list.count(1))"
   ]
  },
  {
   "cell_type": "code",
   "execution_count": 11,
   "metadata": {},
   "outputs": [
    {
     "name": "stdout",
     "output_type": "stream",
     "text": [
      "The list before extending is:  [4, 2, 1]\n",
      "The length of the list is:  3\n",
      "The list after extending is:  [4, 2, 1, 1, 2, 3]\n"
     ]
    }
   ],
   "source": [
    "# extend\n",
    "print(\"The list before extending is: \", my_list)\n",
    "print(\"The length of the list is: \", len(my_list))\n",
    "my_list.extend([1, 2, 3])\n",
    "print(\"The list after extending is: \", my_list)"
   ]
  },
  {
   "cell_type": "markdown",
   "metadata": {},
   "source": [
    "# Assignment Problems"
   ]
  },
  {
   "cell_type": "markdown",
   "metadata": {},
   "source": [
    "## 1. Define a list called list_1 with four integer members, and find the output of the following\n",
    "1) Access the first three elements from list_1 using forward indices: list_1[0:3]\n",
    "2) Access the last element from list_1 using the len function: list_1[len(list_1) - 1]\n",
    "3) Access the last two elements from list_1 by slicing: list_1[-2:]\n",
    "4) Access the first two elements using backward indices list_1[:-2]\n",
    "5) Reverse the elements in the string: list_1[::-1]"
   ]
  },
  {
   "cell_type": "code",
   "execution_count": 1,
   "metadata": {},
   "outputs": [
    {
     "data": {
      "text/plain": [
       "[1, 2, 3]"
      ]
     },
     "execution_count": 1,
     "metadata": {},
     "output_type": "execute_result"
    }
   ],
   "source": [
    "list1 = [1, 2, 3, 4]\n",
    "list1[0:3]"
   ]
  },
  {
   "cell_type": "code",
   "execution_count": 2,
   "metadata": {},
   "outputs": [
    {
     "data": {
      "text/plain": [
       "4"
      ]
     },
     "execution_count": 2,
     "metadata": {},
     "output_type": "execute_result"
    }
   ],
   "source": [
    "list1[len(list1) -1]"
   ]
  },
  {
   "cell_type": "code",
   "execution_count": 3,
   "metadata": {},
   "outputs": [
    {
     "data": {
      "text/plain": [
       "[3, 4]"
      ]
     },
     "execution_count": 3,
     "metadata": {},
     "output_type": "execute_result"
    }
   ],
   "source": [
    "list1[-2:]"
   ]
  },
  {
   "cell_type": "code",
   "execution_count": 4,
   "metadata": {},
   "outputs": [
    {
     "data": {
      "text/plain": [
       "[1, 2]"
      ]
     },
     "execution_count": 4,
     "metadata": {},
     "output_type": "execute_result"
    }
   ],
   "source": [
    "list1[:-2]"
   ]
  },
  {
   "cell_type": "code",
   "execution_count": 5,
   "metadata": {},
   "outputs": [
    {
     "data": {
      "text/plain": [
       "[4, 3, 2, 1]"
      ]
     },
     "execution_count": 5,
     "metadata": {},
     "output_type": "execute_result"
    }
   ],
   "source": [
    "list1[::-1]"
   ]
  },
  {
   "cell_type": "markdown",
   "metadata": {},
   "source": [
    "## 2. Accept 20 values from user and save it in list. Perform following operations on it\n",
    "1) count similar elements of list.\n",
    "2) count even and odd values of list .\n",
    "3) count positive and negative values of list."
   ]
  },
  {
   "cell_type": "code",
   "execution_count": 27,
   "metadata": {},
   "outputs": [
    {
     "data": {
      "text/plain": [
       "[7, -5, 3, 3, -2, 10, 3, 6, 7, 4, 5, -2, -4, 8, -4, 6, -2, -2, 7, -1]"
      ]
     },
     "execution_count": 27,
     "metadata": {},
     "output_type": "execute_result"
    }
   ],
   "source": [
    "import random\n",
    "list = [random.randint(-5, 10) for i in range(20)]\n",
    "list"
   ]
  },
  {
   "cell_type": "code",
   "execution_count": 28,
   "metadata": {},
   "outputs": [
    {
     "data": {
      "text/plain": [
       "{7: 3, 3: 3, -2: 4, 6: 2, -4: 2}"
      ]
     },
     "execution_count": 28,
     "metadata": {},
     "output_type": "execute_result"
    }
   ],
   "source": [
    "similar_values = {i: list.count(i) for i in list if list.count(i) > 1}\n",
    "similar_values"
   ]
  },
  {
   "cell_type": "code",
   "execution_count": 29,
   "metadata": {},
   "outputs": [
    {
     "name": "stdout",
     "output_type": "stream",
     "text": [
      "Positive values:  {7: 3, 3: 3, 10: 1, 6: 2, 4: 1, 5: 1, 8: 1}\n",
      "Negative values:  {-5: 1, -2: 4, -4: 2, -1: 1}\n"
     ]
    }
   ],
   "source": [
    "positive_values = {i:list.count(i) for i in list if i > 0}\n",
    "negative_values = {i:list.count(i) for i in list if i <= 0}\n",
    "print(\"Positive values: \", positive_values)\n",
    "print(\"Negative values: \", negative_values)"
   ]
  },
  {
   "cell_type": "markdown",
   "metadata": {},
   "source": [
    "## 3. Accept 10 values from user and save it in list. Perform following operations on it\n",
    "1) Sort list in ascending order using sorted() function and display sorted list\n",
    "2) sort list in descending order using sort() function\n",
    "3) display length of list"
   ]
  },
  {
   "cell_type": "code",
   "execution_count": 30,
   "metadata": {},
   "outputs": [
    {
     "data": {
      "text/plain": [
       "[3, 7, -2, 8, 2, -2, 0, 0, -2, 4, 10, 1, 6, 9, 3, 9, 0, 8, 7, 10]"
      ]
     },
     "execution_count": 30,
     "metadata": {},
     "output_type": "execute_result"
    }
   ],
   "source": [
    "list = [random.randint(-5, 10) for i in range(20)]\n",
    "list"
   ]
  },
  {
   "cell_type": "code",
   "execution_count": 31,
   "metadata": {},
   "outputs": [
    {
     "data": {
      "text/plain": [
       "[-2, -2, -2, 0, 0, 0, 1, 2, 3, 3, 4, 6, 7, 7, 8, 8, 9, 9, 10, 10]"
      ]
     },
     "execution_count": 31,
     "metadata": {},
     "output_type": "execute_result"
    }
   ],
   "source": [
    "sorted(list)"
   ]
  },
  {
   "cell_type": "code",
   "execution_count": 33,
   "metadata": {},
   "outputs": [
    {
     "name": "stdout",
     "output_type": "stream",
     "text": [
      "[10, 10, 9, 9, 8, 8, 7, 7, 6, 4, 3, 3, 2, 1, 0, 0, 0, -2, -2, -2]\n"
     ]
    }
   ],
   "source": [
    "list.sort(reverse=True)\n",
    "print(list)"
   ]
  },
  {
   "cell_type": "code",
   "execution_count": 34,
   "metadata": {},
   "outputs": [
    {
     "data": {
      "text/plain": [
       "20"
      ]
     },
     "execution_count": 34,
     "metadata": {},
     "output_type": "execute_result"
    }
   ],
   "source": [
    "len(list)"
   ]
  },
  {
   "cell_type": "markdown",
   "metadata": {},
   "source": [
    "## 4. Accept two lists from user and merge them using + in a single lis"
   ]
  },
  {
   "cell_type": "code",
   "execution_count": 38,
   "metadata": {},
   "outputs": [
    {
     "name": "stdout",
     "output_type": "stream",
     "text": [
      "List 1 is:  [-5, -2, 7, 7, -5]\n",
      "List 2 is:  [-5, 4, 5, 0, -5]\n",
      "The concatenated list is: [-5, -2, 7, 7, -5, -5, 4, 5, 0, -5]\n"
     ]
    }
   ],
   "source": [
    "list_1 = [random.randint(-5, 10) for i in range(5)]\n",
    "list_2 = [random.randint(-5, 10) for i in range(5)]\n",
    "\n",
    "list_3 = list_1 + list_2\n",
    "\n",
    "print(\"List 1 is: \", list_1)\n",
    "print(\"List 2 is: \", list_2)\n",
    "print(\"The concatenated list is:\", list_3)"
   ]
  }
 ],
 "metadata": {
  "kernelspec": {
   "display_name": "Python 3 (ipykernel)",
   "language": "python",
   "name": "python3"
  },
  "language_info": {
   "codemirror_mode": {
    "name": "ipython",
    "version": 3
   },
   "file_extension": ".py",
   "mimetype": "text/x-python",
   "name": "python",
   "nbconvert_exporter": "python",
   "pygments_lexer": "ipython3",
   "version": "3.10.9"
  },
  "vscode": {
   "interpreter": {
    "hash": "a4b77f993ba6b6ea4eb3761684e7ca501a2543df44d76187b7f760112c07c75c"
   }
  }
 },
 "nbformat": 4,
 "nbformat_minor": 2
}
