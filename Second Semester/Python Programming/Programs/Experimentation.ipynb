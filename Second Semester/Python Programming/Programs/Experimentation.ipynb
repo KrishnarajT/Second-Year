{
 "cells": [
  {
   "cell_type": "code",
   "execution_count": null,
   "metadata": {},
   "outputs": [],
   "source": []
  }
 ],
 "metadata": {
  "kernelspec": {
   "display_name": "Python 3.10.9 ('UniEnv': venv)",
   "language": "python",
   "name": "python3"
  },
  "language_info": {
   "name": "python",
   "version": "3.10.9"
  },
  "orig_nbformat": 4,
  "vscode": {
   "interpreter": {
    "hash": "a4b77f993ba6b6ea4eb3761684e7ca501a2543df44d76187b7f760112c07c75c"
   }
  }
 },
 "nbformat": 4,
 "nbformat_minor": 2
}
