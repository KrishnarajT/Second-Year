{
 "cells": [
  {
   "cell_type": "markdown",
   "metadata": {},
   "source": [
    "# Assignment 3\n",
    "Write a python program that accepts the length of three sides of a triangle as inputs. The program should indicate whether or not the triangle is a right angled triangle using a user defined function with exception handling. "
   ]
  },
  {
   "cell_type": "code",
   "execution_count": 9,
   "metadata": {},
   "outputs": [],
   "source": [
    "import math\n",
    "\n",
    "\n",
    "def check_right_angled_triangle(side_1, side_2, side_3):\n",
    "    \"\"\"This function takes three sides of a triangle as input and returns True if the triangle is right-angled and False otherwise.\n",
    "    \"\"\"\n",
    "    longest_side = max(side_1, side_2, side_3)\n",
    "    print(longest_side)\n",
    "    if math.pow(longest_side, 2) == (math.pow(side_1, 2) + math.pow(side_2, 2) + math.pow(side_3, 2) - math.pow(longest_side, 2)):\n",
    "        return True\n",
    "    else:\n",
    "        return False        \n",
    "    "
   ]
  },
  {
   "cell_type": "code",
   "execution_count": 16,
   "metadata": {},
   "outputs": [],
   "source": [
    "def main():\n",
    "    print(\"Welcome to Python Assignment 3\")\n",
    "    print(\"Enter the sides of the triangle to check if it is a right angled triangle\")\n",
    "    try:\n",
    "        side_1 = int(input(\"Enter the First side: \"))\n",
    "        side_2 = int(input(\"Enter the Second side: \"))\n",
    "        side_3 = int(input(\"Enter the Third side: \"))\n",
    "        if check_right_angled_triangle(side_1, side_2, side_3):\n",
    "            print(\"The triangle is a right angled triangle\")\n",
    "        else:\n",
    "            print(\"The triangle is not a right angled triangle\")\n",
    "    # except ValueError:\n",
    "    #     print(\"Value Error Occured: Please enter a valid number\")\n",
    "    except Exception as e:\n",
    "        print(\"An error occurred: \", e)"
   ]
  },
  {
   "cell_type": "code",
   "execution_count": 18,
   "metadata": {},
   "outputs": [
    {
     "name": "stdout",
     "output_type": "stream",
     "text": [
      "Welcome to Python Assignment 3\n",
      "Enter the sides of the triangle to check if it is a right angled triangle\n",
      "An error occurred:  invalid literal for int() with base 10: 'hj'\n"
     ]
    }
   ],
   "source": [
    "main()"
   ]
  },
  {
   "cell_type": "code",
   "execution_count": 15,
   "metadata": {},
   "outputs": [
    {
     "name": "stdout",
     "output_type": "stream",
     "text": [
      "Welcome to Python Assignment 3\n",
      "Enter the sides of the triangle to check if it is a right angled triangle\n",
      "5\n",
      "The triangle is a right angled triangle\n"
     ]
    }
   ],
   "source": [
    "main()"
   ]
  },
  {
   "cell_type": "code",
   "execution_count": 20,
   "metadata": {},
   "outputs": [
    {
     "name": "stdout",
     "output_type": "stream",
     "text": [
      "Welcome to Python Assignment 3\n",
      "Enter the sides of the triangle to check if it is a right angled triangle\n",
      "An error occurred:  invalid literal for int() with base 10: '-af'\n"
     ]
    }
   ],
   "source": [
    "main()"
   ]
  },
  {
   "cell_type": "markdown",
   "metadata": {},
   "source": [
    "## Assignment 3 - Part 2\n",
    "Given a list l1, find reciprocal of each element in the list. Use Error Handling"
   ]
  },
  {
   "cell_type": "code",
   "execution_count": 34,
   "metadata": {},
   "outputs": [
    {
     "name": "stdout",
     "output_type": "stream",
     "text": [
      "What do you want in the list? \n",
      "The Input list is: [10, 5.3, 'x', 4, 0]\n"
     ]
    }
   ],
   "source": [
    "print(\"What do you want in the list? \")\n",
    "input_list = [10, 5.3, 'x', 4, 0]\n",
    "print(\"The Input list is:\", input_list)"
   ]
  },
  {
   "cell_type": "code",
   "execution_count": 35,
   "metadata": {},
   "outputs": [
    {
     "name": "stdout",
     "output_type": "stream",
     "text": [
      "The reciprocals are: \n",
      "0.18867924528301888\n",
      "TypeError: Please enter a valid number\n",
      "0.25\n",
      "ZeroDivisionError: Please enter a number other than 0\n"
     ]
    }
   ],
   "source": [
    "i = 0\n",
    "print(\"The reciprocals are: \")\n",
    "while i < len(input_list) - 1:\n",
    "    try:\n",
    "        i += 1\n",
    "        print(1/input_list[i])\n",
    "    except TypeError:\n",
    "        print(\"TypeError: Please enter a valid number\")\n",
    "    except ZeroDivisionError:\n",
    "        print(\"ZeroDivisionError: Please enter a number other than 0\")\n",
    "    except Exception as e:\n",
    "        print(\"An error occurred: \", e)"
   ]
  },
  {
   "cell_type": "code",
   "execution_count": null,
   "metadata": {},
   "outputs": [],
   "source": []
  }
 ],
 "metadata": {
  "kernelspec": {
   "display_name": "Python 3 (ipykernel)",
   "language": "python",
   "name": "python3"
  },
  "language_info": {
   "codemirror_mode": {
    "name": "ipython",
    "version": 3
   },
   "file_extension": ".py",
   "mimetype": "text/x-python",
   "name": "python",
   "nbconvert_exporter": "python",
   "pygments_lexer": "ipython3",
   "version": "3.10.10"
  },
  "vscode": {
   "interpreter": {
    "hash": "767d51c1340bd893661ea55ea3124f6de3c7a262a8b4abca0554b478b1e2ff90"
   }
  }
 },
 "nbformat": 4,
 "nbformat_minor": 2
}
