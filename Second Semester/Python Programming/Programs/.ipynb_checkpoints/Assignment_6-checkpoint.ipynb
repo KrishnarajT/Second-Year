{
 "cells": [
  {
   "cell_type": "markdown",
   "metadata": {},
   "source": [
    "# Assignment 6 - Classes and Objects"
   ]
  },
  {
   "cell_type": "markdown",
   "metadata": {},
   "source": [
    "### Write a program to read 3 subject marks and display pass or failed using class and object."
   ]
  },
  {
   "cell_type": "code",
   "execution_count": 15,
   "metadata": {},
   "outputs": [],
   "source": [
    "class student(object):\n",
    "    \"\"\"Class to manage student stuff. \"\"\"\n",
    "    def __init__(self, name, subjects, marks):\n",
    "        self.name = name\n",
    "        self.subjects = subjects\n",
    "        self.marks = marks\n",
    "        self.results = {}\n",
    "        self.results = self.calculate_results()\n",
    "    \n",
    "    def calculate_results(self):\n",
    "        for sub in self.subjects:\n",
    "            self.results[sub] = 'Fail'\n",
    "        for sub, mark in zip(self.subjects, self.marks):\n",
    "            self.results[sub] = 'Pass' if mark >= 50 else 'Fail'\n",
    "        return self.results\n",
    "    \n",
    "    def get_results(self):\n",
    "        return self.results   \n"
   ]
  },
  {
   "cell_type": "code",
   "execution_count": 17,
   "metadata": {},
   "outputs": [
    {
     "name": "stdout",
     "output_type": "stream",
     "text": [
      "The Result of Maths for Ramesh is Pass\n",
      "The Result of Physics for Ramesh is Pass\n",
      "The Result of Chemistry for Ramesh is Pass\n",
      "The Result of Maths for Suresh is Pass\n",
      "The Result of Physics for Suresh is Fail\n",
      "The Result of Chemistry for Suresh is Fail\n",
      "The Result of Maths for Tony Stark is Pass\n",
      "The Result of Physics for Tony Stark is Pass\n",
      "The Result of Chemistry for Tony Stark is Pass\n"
     ]
    }
   ],
   "source": [
    "Ramesh = student(\"Ramesh\", [\"Maths\", \"Physics\", \"Chemistry\"], [50, 60, 70])\n",
    "Suresh = student(\"Suresh\", [\"Maths\", \"Physics\", \"Chemistry\"], [50, 40, 30])\n",
    "Tony_Stark = student(\"Tony Stark\", [\"Maths\", \"Physics\", \"Chemistry\"], [100, 100, 100])\n",
    "\n",
    "for sub, res in zip(Ramesh.subjects, Ramesh.results.values()):\n",
    "    print(f'The Result of {sub} for {Ramesh.name} is {res}')\n",
    "for sub, res in zip(Suresh.subjects, Suresh.results.values()):\n",
    "    print(f'The Result of {sub} for {Suresh.name} is {res}')\n",
    "for sub, res in zip(Tony_Stark.subjects, Tony_Stark.results.values()):\n",
    "    print(f'The Result of {sub} for {Tony_Stark.name} is {res}')"
   ]
  },
  {
   "cell_type": "code",
   "execution_count": null,
   "metadata": {},
   "outputs": [],
   "source": []
  }
 ],
 "metadata": {
  "kernelspec": {
   "display_name": "Python 3 (ipykernel)",
   "language": "python",
   "name": "python3"
  },
  "language_info": {
   "codemirror_mode": {
    "name": "ipython",
    "version": 3
   },
   "file_extension": ".py",
   "mimetype": "text/x-python",
   "name": "python",
   "nbconvert_exporter": "python",
   "pygments_lexer": "ipython3",
   "version": "3.10.9"
  }
 },
 "nbformat": 4,
 "nbformat_minor": 2
}
