{
 "cells": [
  {
   "cell_type": "markdown",
   "metadata": {},
   "source": [
    "# Assignment 2 - Python Programming\n",
    "\n",
    "\n",
    "Program to find the largest of 3 Numbers\n",
    "\n",
    "Krishanraj Thadesar\n",
    "\n",
    "PA 20 Batch A1, Assignment 2"
   ]
  },
  {
   "cell_type": "code",
   "execution_count": 1,
   "metadata": {},
   "outputs": [
    {
     "name": "stdout",
     "output_type": "stream",
     "text": [
      "The Numbers that you have entered are:  1 2 3\n",
      "The largest number is:  3\n"
     ]
    }
   ],
   "source": [
    "# splitting the input string into a list of strings and then converting each string into an integer\n",
    "(a, b, c) = [int(i) for i in input(\"Enter 3 Numbers: \").split()]\n",
    "print(\"The Numbers that you have entered are: \", a, b, c)\n",
    "\n",
    "\n",
    "# checking the largest number\n",
    "if (a >= b and a >= c):\n",
    "    print(\"The largest number is:\", a)\n",
    "\n",
    "elif b >= a and b >= c:\n",
    "    print(\"The largest number is: \", b)\n",
    "\n",
    "else: \n",
    "    print(\"The largest number is: \", c)\n"
   ]
  },
  {
   "cell_type": "code",
   "execution_count": null,
   "metadata": {},
   "outputs": [],
   "source": []
  }
 ],
 "metadata": {
  "kernelspec": {
   "display_name": "Python 3 (ipykernel)",
   "language": "python",
   "name": "python3"
  },
  "language_info": {
   "codemirror_mode": {
    "name": "ipython",
    "version": 3
   },
   "file_extension": ".py",
   "mimetype": "text/x-python",
   "name": "python",
   "nbconvert_exporter": "python",
   "pygments_lexer": "ipython3",
   "version": "3.10.9"
  },
  "vscode": {
   "interpreter": {
    "hash": "a4b77f993ba6b6ea4eb3761684e7ca501a2543df44d76187b7f760112c07c75c"
   }
  }
 },
 "nbformat": 4,
 "nbformat_minor": 2
}
