{
 "cells": [
  {
   "cell_type": "markdown",
   "metadata": {},
   "source": [
    "# Tuples"
   ]
  },
  {
   "cell_type": "markdown",
   "metadata": {},
   "source": [
    "### Write a python program to create, append and remove etc. operation on Dictionary and Tuple."
   ]
  },
  {
   "cell_type": "markdown",
   "metadata": {},
   "source": [
    "### Creating a tuple"
   ]
  },
  {
   "cell_type": "code",
   "execution_count": 3,
   "metadata": {},
   "outputs": [],
   "source": [
    "my_tuple = (1, 2, 3, 4, 4, 4, 5, 6, 7, 8, 9, 10)\n",
    "print(my_tuple)\n",
    "print(\"Getting an element from a tuple: \", my_tuple[3])\n",
    "print(\"Index of the first occurrence of 5 is: \", my_tuple.index(5))"
   ]
  },
  {
   "cell_type": "markdown",
   "metadata": {},
   "source": [
    "### Appending to a tuple"
   ]
  },
  {
   "cell_type": "code",
   "execution_count": 29,
   "metadata": {},
   "outputs": [
    {
     "data": {
      "text/plain": [
       "(1, 2, 3, 4, 5, 6, 7, 8, 9, 10, 1, 1, 'added element', 1, 'added element')"
      ]
     },
     "execution_count": 29,
     "metadata": {},
     "output_type": "execute_result"
    }
   ],
   "source": [
    "# my_tuple.append(4) # this wont work as tuples are immutable\n",
    "my_tuple = my_tuple + (1, \"added element\")\n",
    "my_tuple"
   ]
  },
  {
   "cell_type": "markdown",
   "metadata": {},
   "source": [
    "### Difference between tuple and list"
   ]
  },
  {
   "cell_type": "code",
   "execution_count": 52,
   "metadata": {},
   "outputs": [
    {
     "name": "stdout",
     "output_type": "stream",
     "text": [
      "Before sorting:  [1, 2, 3, 4, 5, 6, 7, 8, 9, 10]\n",
      "After sorting:  [1, 2, 3, 4, 5, 6, 7, 8, 9, 10]\n",
      "Before sorting:  [1, 2, 3, 4, 5, 6, 7, 8, 9, 10, 'hi']\n",
      "You need all elements of the same type to sort a list. \n"
     ]
    }
   ],
   "source": [
    "# lists are mutable\n",
    "my_list = [1, 2, 3, 4, 5]\n",
    "my_tuple = tuple(my_list)\n",
    "\n",
    "# Deleting is allowed even tho you cant remove single elements. \n",
    "del(my_list)\n",
    "# tuples are not mutable\n",
    "# my_tuple[0] = 2 # not allowed\n",
    "\n",
    "# trying to sort a list\n",
    "my_list = [1, 2, 3, 4, 5, 6, 7, 8, 9, 10]\n",
    "print(\"Before sorting: \", my_list)\n",
    "print(\"After sorting: \", sorted(my_list))\n",
    "\n",
    "try: \n",
    "    my_list = [1, 2, 3, 4, 5, 6, 7, 8, 9, 10, 'hi']\n",
    "    print(\"Before sorting: \", my_list)\n",
    "    print(\"After sorting: \", sorted(my_list))\n",
    "except TypeError as e:\n",
    "    print(\"You need all elements of the same type to sort a list. \")\n",
    "    \n",
    "# same goes with tuples"
   ]
  },
  {
   "cell_type": "markdown",
   "metadata": {},
   "source": [
    "### Some Properties of tuple"
   ]
  },
  {
   "cell_type": "code",
   "execution_count": 10,
   "metadata": {},
   "outputs": [
    {
     "name": "stdout",
     "output_type": "stream",
     "text": [
      "<class 'int'>\n",
      "<class 'tuple'>\n",
      "<class 'tuple'>\n"
     ]
    }
   ],
   "source": [
    "weird_tuple = (4)\n",
    "print(type(weird_tuple))\n",
    "\n",
    "# You need comma to make it a tuple\n",
    "weird_tuple = (4,)\n",
    "print(type(weird_tuple))\n",
    "\n",
    "weird_tuple = ((4,),)\n",
    "print(type(weird_tuple))"
   ]
  },
  {
   "cell_type": "markdown",
   "metadata": {},
   "source": [
    "### You can change mutable elements inside a tuple"
   ]
  },
  {
   "cell_type": "code",
   "execution_count": 19,
   "metadata": {},
   "outputs": [
    {
     "name": "stdout",
     "output_type": "stream",
     "text": [
      "Thats not allowed\n",
      "thats also not possible as strings are still immutable\n"
     ]
    }
   ],
   "source": [
    "weird_tuple = (4, 5, 6, 7, [1, 2, 3], \"hello\")\n",
    "weird_tuple[4][1] = 10 # allowed\n",
    "try: \n",
    "    weird_tuple[4] = 10 # not allowed\n",
    "except TypeError as e:\n",
    "    print(\"Thats not allowed\")\n",
    "try: \n",
    "    weird_tuple[5][1] = '3' # not allowed\n",
    "except TypeError as e:\n",
    "    print(\"thats also not possible as strings are still immutable\")"
   ]
  },
  {
   "cell_type": "markdown",
   "metadata": {},
   "source": [
    "### Printing everything about the tuple"
   ]
  },
  {
   "cell_type": "code",
   "execution_count": 23,
   "metadata": {},
   "outputs": [
    {
     "name": "stdout",
     "output_type": "stream",
     "text": [
      "4\n",
      "5\n",
      "6\n",
      "7\n",
      "[1, 10, 3]\n",
      "hello\n"
     ]
    }
   ],
   "source": [
    "for i in weird_tuple:\n",
    "    print(i)"
   ]
  },
  {
   "cell_type": "markdown",
   "metadata": {},
   "source": [
    "### Some functions on tuples"
   ]
  },
  {
   "cell_type": "code",
   "execution_count": 80,
   "metadata": {},
   "outputs": [
    {
     "name": "stdout",
     "output_type": "stream",
     "text": [
      "1\n",
      "3\n"
     ]
    }
   ],
   "source": [
    "print(my_tuple.count(4))\n",
    "print(my_tuple.index(4))"
   ]
  },
  {
   "cell_type": "markdown",
   "metadata": {},
   "source": [
    "## Dictionaries"
   ]
  },
  {
   "cell_type": "code",
   "execution_count": 96,
   "metadata": {},
   "outputs": [
    {
     "data": {
      "text/plain": [
       "{'a': 1, 'b': 2, 'c': 3, 'd': 4, 'e': 5}"
      ]
     },
     "execution_count": 96,
     "metadata": {},
     "output_type": "execute_result"
    }
   ],
   "source": [
    "example_dictionary = {\n",
    "    'a' : 1,\n",
    "    'b' : 2,\n",
    "    'c' : 3,\n",
    "    'd' : 4,\n",
    "    'e' : 5,\n",
    "}\n",
    "\n",
    "example_dictionary"
   ]
  },
  {
   "cell_type": "markdown",
   "metadata": {},
   "source": [
    "### Different ways to create a dictionary"
   ]
  },
  {
   "cell_type": "code",
   "execution_count": 97,
   "metadata": {},
   "outputs": [
    {
     "data": {
      "text/plain": [
       "{1: 'a', 2: 'b', 3: 'c', 4: 'd', 5: 'e'}"
      ]
     },
     "execution_count": 97,
     "metadata": {},
     "output_type": "execute_result"
    }
   ],
   "source": [
    "alphabets = ['a', 'b', 'c', 'd', 'e']\n",
    "alphabet_dictionary = {_ + 1: i for _, i in enumerate(alphabets)}\n",
    "alphabet_dictionary"
   ]
  },
  {
   "cell_type": "markdown",
   "metadata": {},
   "source": [
    "### Accessing elements from a dictionary"
   ]
  },
  {
   "cell_type": "code",
   "execution_count": 98,
   "metadata": {},
   "outputs": [
    {
     "name": "stdout",
     "output_type": "stream",
     "text": [
      "a\n",
      "e\n"
     ]
    }
   ],
   "source": [
    "# usually\n",
    "print(alphabet_dictionary[1])\n",
    "\n",
    "# or the get method\n",
    "print(alphabet_dictionary.get(5))\n"
   ]
  },
  {
   "cell_type": "markdown",
   "metadata": {},
   "source": [
    "### Adding items to a dictionary"
   ]
  },
  {
   "cell_type": "code",
   "execution_count": 99,
   "metadata": {},
   "outputs": [
    {
     "data": {
      "text/plain": [
       "{1: 'a', 2: 'b', 3: 'c', 4: 'd', 5: 'e', 6: 'f'}"
      ]
     },
     "execution_count": 99,
     "metadata": {},
     "output_type": "execute_result"
    }
   ],
   "source": [
    "alphabet_dictionary[6] = 'f'\n",
    "alphabet_dictionary"
   ]
  },
  {
   "cell_type": "markdown",
   "metadata": {},
   "source": [
    "### Some functions of a dictionary"
   ]
  },
  {
   "cell_type": "code",
   "execution_count": 100,
   "metadata": {},
   "outputs": [
    {
     "name": "stdout",
     "output_type": "stream",
     "text": [
      "f\n",
      "{1: 'a', 2: 'b', 3: 'c', 4: 'd', 5: 'e'}\n",
      "(5, 'e')\n",
      "{1: 'a', 2: 'b', 3: 'c', 4: 'd'}\n",
      "dict_keys([1, 2, 3, 4])\n",
      "<class 'dict_keys'>\n",
      "dict_values(['a', 'b', 'c', 'd'])\n",
      "<class 'dict_values'>\n",
      "dict_items([(1, 'a'), (2, 'b'), (3, 'c'), (4, 'd')])\n",
      "<class 'dict_items'>\n"
     ]
    }
   ],
   "source": [
    "alphabet_dictionary[6] = 'f'\n",
    "\n",
    "# deleting an element\n",
    "print(alphabet_dictionary.pop(6))\n",
    "print(alphabet_dictionary)\n",
    "\n",
    "print(alphabet_dictionary.popitem())\n",
    "print(alphabet_dictionary)\n",
    "\n",
    "keys = alphabet_dictionary.keys()\n",
    "print(keys)\n",
    "print(type(keys))\n",
    "\n",
    "values = alphabet_dictionary.values()\n",
    "print(values)\n",
    "print(type(values))\n",
    "\n",
    "items = alphabet_dictionary.items()\n",
    "print(items)\n",
    "print(type(items))"
   ]
  },
  {
   "cell_type": "markdown",
   "metadata": {},
   "source": [
    "## Assignment things"
   ]
  },
  {
   "cell_type": "code",
   "execution_count": 126,
   "metadata": {},
   "outputs": [
    {
     "name": "stdout",
     "output_type": "stream",
     "text": [
      "1 Ramesh\n",
      "2 Suresh\n",
      "3 Rajesh\n",
      "4 Rakesh\n",
      "5 Mahesh\n",
      "6 Ganesh\n"
     ]
    }
   ],
   "source": [
    "my_dict = {1: \"Ramesh\", 2: \"Suresh\", 3: \"Rajesh\", 4: \"Rakesh\", 5: \"Mahesh\", 6: \"Ganesh\"}\n",
    "for key, val in my_dict.items(): \n",
    "    print(key, val)"
   ]
  },
  {
   "cell_type": "code",
   "execution_count": 127,
   "metadata": {},
   "outputs": [
    {
     "name": "stdout",
     "output_type": "stream",
     "text": [
      "{1: 'Ramesh', 2: 'Suresh', 3: 'Rajesh', 4: 'Rakesh', 5: 'Mahesh'}\n"
     ]
    },
    {
     "data": {
      "text/plain": [
       "{1: 'Ramesh', 2: 'Suresh', 3: 'Rajesh', 4: 'Rakesh', 5: 'Mahesh', 7: 'Paresh'}"
      ]
     },
     "execution_count": 127,
     "metadata": {},
     "output_type": "execute_result"
    }
   ],
   "source": [
    "# to remove items from a dictionary\n",
    "my_dict.popitem()\n",
    "print(my_dict)\n",
    "my_dict[7] = 'Paresh'\n",
    "my_dict"
   ]
  },
  {
   "cell_type": "markdown",
   "metadata": {},
   "source": [
    "## 2. dict from list"
   ]
  },
  {
   "cell_type": "code",
   "execution_count": 128,
   "metadata": {},
   "outputs": [
    {
     "data": {
      "text/plain": [
       "{'name': 'Ramesh', 'panel': 'A', 'rollno': 1}"
      ]
     },
     "execution_count": 128,
     "metadata": {},
     "output_type": "execute_result"
    }
   ],
   "source": [
    "list1 = ['name', 'panel', 'rollno']\n",
    "list2 = ['Ramesh', 'A', 1]\n",
    "my_dict = {i: j for i, j in zip(list1, list2)}\n",
    "my_dict"
   ]
  },
  {
   "cell_type": "markdown",
   "metadata": {},
   "source": [
    "## 3. sort elements"
   ]
  },
  {
   "cell_type": "code",
   "execution_count": 129,
   "metadata": {},
   "outputs": [
    {
     "data": {
      "text/plain": [
       "{'name': 'Ramesh', 'panel': 'A', 'rollno': 1}"
      ]
     },
     "execution_count": 129,
     "metadata": {},
     "output_type": "execute_result"
    }
   ],
   "source": [
    "sorted_dictionary = {i: my_dict.get(i) for i in sorted(my_dict)}\n",
    "sorted_dictionary"
   ]
  },
  {
   "cell_type": "markdown",
   "metadata": {},
   "source": [
    "## 4. Make 1 list of keys and other list of values"
   ]
  },
  {
   "cell_type": "code",
   "execution_count": 132,
   "metadata": {},
   "outputs": [
    {
     "name": "stdout",
     "output_type": "stream",
     "text": [
      "{'name': 'Ramesh', 'panel': 'A', 'rollno': 1}\n",
      "['name', 'panel', 'rollno']\n",
      "['Ramesh', 'A', 1]\n"
     ]
    }
   ],
   "source": [
    "print(my_dict)\n",
    "list_keys = list(my_dict.keys())\n",
    "list_values = list(my_dict.values())\n",
    "\n",
    "print(list_keys)\n",
    "print(list_values)"
   ]
  },
  {
   "cell_type": "markdown",
   "metadata": {},
   "source": [
    "## 5. Find the mean value of the dictionary"
   ]
  },
  {
   "cell_type": "code",
   "execution_count": 133,
   "metadata": {},
   "outputs": [
    {
     "name": "stdout",
     "output_type": "stream",
     "text": [
      "82.0\n"
     ]
    }
   ],
   "source": [
    "marks = {\n",
    "    'marks1' : 90,\n",
    "    'marks2' : 80,\n",
    "    'marks3' : 80,\n",
    "    'marks4' : 80,\n",
    "    'marks5' : 80,\n",
    "}\n",
    "mean_value = sum(marks.values()) / len(marks)\n",
    "print(mean_value)"
   ]
  },
  {
   "cell_type": "markdown",
   "metadata": {},
   "source": [
    "## 6. Perform the following operations on the dictionary"
   ]
  },
  {
   "cell_type": "code",
   "execution_count": 135,
   "metadata": {},
   "outputs": [
    {
     "name": "stdout",
     "output_type": "stream",
     "text": [
      "Name is:  Dev\n",
      "Roll is:  12\n",
      "Highest Marks are:  90\n"
     ]
    }
   ],
   "source": [
    "my_dict = {'name': ['Yash', 'Neal', 'Dev'], 'Roll': [1, 12, 3], 'Marks': [90, 80, 70]}\n",
    "print(\"Name is: \", my_dict['name'][2])\n",
    "print(\"Roll is: \", my_dict['Roll'][1])\n",
    "print(\"Highest Marks are: \", max(my_dict['Marks']))"
   ]
  },
  {
   "cell_type": "code",
   "execution_count": null,
   "metadata": {},
   "outputs": [],
   "source": []
  }
 ],
 "metadata": {
  "kernelspec": {
   "display_name": "Python 3 (ipykernel)",
   "language": "python",
   "name": "python3"
  },
  "language_info": {
   "codemirror_mode": {
    "name": "ipython",
    "version": 3
   },
   "file_extension": ".py",
   "mimetype": "text/x-python",
   "name": "python",
   "nbconvert_exporter": "python",
   "pygments_lexer": "ipython3",
   "version": "3.10.9"
  },
  "vscode": {
   "interpreter": {
    "hash": "a4b77f993ba6b6ea4eb3761684e7ca501a2543df44d76187b7f760112c07c75c"
   }
  }
 },
 "nbformat": 4,
 "nbformat_minor": 2
}
