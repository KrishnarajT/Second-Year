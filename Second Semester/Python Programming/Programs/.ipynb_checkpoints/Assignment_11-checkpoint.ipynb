{
 "cells": [
  {
   "cell_type": "markdown",
   "metadata": {},
   "source": [
    "# Tkinter"
   ]
  },
  {
   "cell_type": "markdown",
   "metadata": {},
   "source": [
    "## Basic tkinter gui"
   ]
  },
  {
   "cell_type": "code",
   "execution_count": 24,
   "metadata": {},
   "outputs": [],
   "source": [
    "from tkinter import *\n",
    "\n",
    "# size of the window is defined\n",
    "root = Tk()\n",
    "root.geometry(\"400x400\")\n",
    "\n",
    "frame_1 = Frame(root)\n",
    "frame_1.pack(side=TOP)\n",
    "frame_2 = Frame(root)\n",
    "frame_2.pack(side=BOTTOM)\n",
    "\n",
    "\n",
    "button_1 = Button(frame_1, text=\"Button 1\", fg=\"red\")\n",
    "button_2 = Button(frame_1, text=\"Button 2\", fg=\"blue\")\n",
    "\n",
    "# to add the button the respective screens\n",
    "button_1.pack()\n",
    "button_2.pack()\n",
    "\n",
    "root.mainloop()"
   ]
  },
  {
   "cell_type": "markdown",
   "metadata": {},
   "source": [
    "## Assignment "
   ]
  },
  {
   "cell_type": "code",
   "execution_count": 25,
   "metadata": {},
   "outputs": [
    {
     "name": "stdout",
     "output_type": "stream",
     "text": [
      "20 12 2002\n"
     ]
    }
   ],
   "source": [
    "import datetime\n",
    "import tkinter as tk\n",
    "\n",
    "# Define the pastel color scheme\n",
    "bg_color = \"#F2EFEA\"\n",
    "fg_color = \"#6D6A75\"\n",
    "button_color = \"#F2D4CB\"\n",
    "button_hover_color = \"#F2D4CB\"\n",
    "\n",
    "def calculate_age():\n",
    "    # get the current date\n",
    "    try: \n",
    "        today = datetime.date.today()\n",
    "        # get the date of birth from the input fields\n",
    "        day = int(day_entry.get())\n",
    "        month = int(month_entry.get())\n",
    "        year = int(year_entry.get())\n",
    "        print(day, month, year)\n",
    "        dob = datetime.date(year, month, day)\n",
    "        # calculate the difference between the current date and date of birth\n",
    "        age = today - dob\n",
    "        # calculate age in years and months\n",
    "        years = int(age.days / 365.25)\n",
    "        months = int((age.days % 365.25) / 30.44)\n",
    "        # update the label with the age\n",
    "        age_label.config(text=\"You are {} years and {} months old.\".format(years, months))\n",
    "    except: \n",
    "        age_label.config(text=\"Please enter a valid date.\")\n",
    "\n",
    "def reset_fields():\n",
    "    # clear the input fields and age label\n",
    "    day_entry.delete(0, tk.END)\n",
    "    month_entry.delete(0, tk.END)\n",
    "    year_entry.delete(0, tk.END)\n",
    "    age_label.config(text=\"\")\n",
    "\n",
    "# Create a new tkinter window\n",
    "root = tk.Tk()\n",
    "root.title(\"Age Calculator\")\n",
    "root.geometry(\"600x600\")\n",
    "root.configure(bg=bg_color)\n",
    "\n",
    "main_label = tk.Label(root, text=\"Age Calculator\", bg=bg_color, fg=fg_color, font=(\"Helvetica\", 16))\n",
    "main_label.pack(pady=(50, 20))\n",
    "\n",
    "# Create the input fields for date of birth\n",
    "day_label = tk.Label(root, text=\"Day\", bg=bg_color, fg=fg_color, font=(\"Helvetica\", 12))\n",
    "day_entry = tk.Entry(root, font=(\"Helvetica\", 12), bg=bg_color, fg=fg_color, bd=2)\n",
    "month_label = tk.Label(root, text=\"Month\", bg=bg_color, fg=fg_color, font=(\"Helvetica\", 12))\n",
    "month_entry = tk.Entry(root, font=(\"Helvetica\", 12), bg=bg_color, fg=fg_color, bd=2)\n",
    "year_label = tk.Label(root, text=\"Year\", bg=bg_color, fg=fg_color, font=(\"Helvetica\", 12))\n",
    "year_entry = tk.Entry(root, font=(\"Helvetica\", 12), bg=bg_color, fg=fg_color, bd=2)\n",
    "\n",
    "# Create the button to calculate age\n",
    "calc_button = tk.Button(root, text=\"Calculate\", bg=button_color, fg=fg_color, font=(\"Helvetica\", 14), bd=0,\n",
    "                        activebackground=button_hover_color, activeforeground=fg_color, command=calculate_age)\n",
    "\n",
    "\n",
    "# Create the button to reset the fields\n",
    "reset_button = tk.Button(root, text=\"Reset\", bg=button_color, fg=fg_color, font=(\"Helvetica\", 14), bd=0,\n",
    "                         activebackground=button_hover_color, activeforeground=fg_color, command=reset_fields)\n",
    "\n",
    "\n",
    "# Create the label to display the age\n",
    "age_label = tk.Label(root, text=\"Please Enter Date\", bg=bg_color, fg=fg_color, font=(\"Helvetica\", 16))\n",
    "\n",
    "# Add the widgets to the window\n",
    "day_label.pack(pady=(50, 10))\n",
    "day_entry.pack(pady=10)\n",
    "month_label.pack(pady=10)\n",
    "month_entry.pack(pady=10)\n",
    "year_label.pack(pady=10)\n",
    "year_entry.pack(pady=10)\n",
    "calc_button.pack(pady=20)\n",
    "reset_button.pack(pady=5)\n",
    "age_label.pack(pady=10)\n",
    "\n",
    "# Run the main tkinter event loop\n",
    "root.mainloop()\n"
   ]
  },
  {
   "cell_type": "code",
   "execution_count": null,
   "metadata": {},
   "outputs": [],
   "source": []
  }
 ],
 "metadata": {
  "kernelspec": {
   "display_name": "Python 3 (ipykernel)",
   "language": "python",
   "name": "python3"
  },
  "language_info": {
   "codemirror_mode": {
    "name": "ipython",
    "version": 3
   },
   "file_extension": ".py",
   "mimetype": "text/x-python",
   "name": "python",
   "nbconvert_exporter": "python",
   "pygments_lexer": "ipython3",
   "version": "3.10.10"
  }
 },
 "nbformat": 4,
 "nbformat_minor": 2
}
