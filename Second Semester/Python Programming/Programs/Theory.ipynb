{
 "cells": [
  {
   "cell_type": "markdown",
   "metadata": {},
   "source": [
    "# Theory"
   ]
  },
  {
   "cell_type": "markdown",
   "metadata": {},
   "source": [
    "## Decision Making\n",
    "Following is the general form of a typical decision making structure found in most of the programming languages. \n",
    "\n",
    "```python\n",
    "if condition:\n",
    "    statement(s)\n",
    "elif condition:\n",
    "    statement(s)\n",
    "else:\n",
    "    statement(s)\n",
    "```\n",
    "\n",
    "Python programming language assumes any non-zero and non-null values as *true*, and if it is either zero or null, then it is assumed as *false* value.\n",
    "\n",
    "Python programming language provides the following types of decision making statements.\n"
   ]
  },
  {
   "cell_type": "markdown",
   "metadata": {},
   "source": [
    "## If Statements \n",
    "An *if statement* consists of a boolean expression followed by one or more statements.\n",
    "\n",
    "```python\n",
    "if expression:\n",
    "    statement(s)\n",
    "```"
   ]
  },
  {
   "cell_type": "code",
   "execution_count": 1,
   "metadata": {},
   "outputs": [
    {
     "name": "stdout",
     "output_type": "stream",
     "text": [
      "Value of expression is 100\n",
      "Good bye!\n"
     ]
    }
   ],
   "source": [
    "var = 100\n",
    "if var == 100:\n",
    "    print(\"Value of expression is 100\")\n",
    "print(\"Good bye!\")\n"
   ]
  },
  {
   "cell_type": "markdown",
   "metadata": {},
   "source": [
    "## If ... Else Statements\n",
    "An *if statement* can be followed by an optional *else statement*, which executes when the boolean expression is *false*.\n",
    "\n",
    "```python\n",
    "if expression:\n",
    "    statement(s)\n",
    "else:\n",
    "    statement(s)\n",
    "```\n"
   ]
  },
  {
   "cell_type": "code",
   "execution_count": 3,
   "metadata": {},
   "outputs": [
    {
     "name": "stdout",
     "output_type": "stream",
     "text": [
      "Value of expression is not 200\n"
     ]
    }
   ],
   "source": [
    "if var == 200:\n",
    "    print(\"Value of expression is 200\")\n",
    "else: \n",
    "    print(\"Value of expression is not 200\")\n"
   ]
  },
  {
   "cell_type": "markdown",
   "metadata": {},
   "source": [
    "## IF...ELIF...ELSE Statements\n",
    "An *if statement* can be followed by an optional *elif statement*, which is short for *else if*. It is very useful to test various conditions for decision making.\n",
    "\n",
    "```python\n",
    "if expression:\n",
    "    statement(s)\n",
    "elif expression:\n",
    "    statement(s)\n",
    "else:\n",
    "    statement(s)\n",
    "```\n"
   ]
  },
  {
   "cell_type": "code",
   "execution_count": 9,
   "metadata": {},
   "outputs": [
    {
     "name": "stdout",
     "output_type": "stream",
     "text": [
      "3\n",
      "Positive number\n"
     ]
    }
   ],
   "source": [
    "import random\n",
    "num = random.randint(-10, 10)\n",
    "print(num)\n",
    "if num > 0:\n",
    "    print(\"Positive number\")\n",
    "elif num < 0:\n",
    "    print(\"Negative number\")\n",
    "else:\n",
    "    print(\"The value is Zero\")"
   ]
  },
  {
   "cell_type": "markdown",
   "metadata": {},
   "source": [
    "## Nested IF Statements\n",
    "\n",
    "You can use one *if* or *else* statement inside another *if* or *else* statement(s).\n",
    "\n",
    "```python\n",
    "if expression:\n",
    "    statement(s)\n",
    "    if expression:\n",
    "        statement(s)\n",
    "    else:\n",
    "        statement(s)\n",
    "else:\n",
    "    statement(s)\n",
    "```\n"
   ]
  },
  {
   "cell_type": "code",
   "execution_count": 11,
   "metadata": {},
   "outputs": [
    {
     "name": "stdout",
     "output_type": "stream",
     "text": [
      "The number of passengers is more than 5\n",
      "The number of passengers and baggage is less than 5\n"
     ]
    }
   ],
   "source": [
    "Number_of_passengers = 6\n",
    "Number_of_baggage = 2\n",
    "Security_check = True\n",
    "\n",
    "if Number_of_passengers > 5:\n",
    "    print(\"The number of passengers is more than 5\")\n",
    "    if Number_of_passengers and Number_of_baggage > 5:\n",
    "        print(\"The number of passengers and baggage is more than 5\")\n",
    "    else:\n",
    "        print(\"The number of passengers and baggage is less than 5\")"
   ]
  }
 ],
 "metadata": {
  "kernelspec": {
   "display_name": "UniEnv",
   "language": "python",
   "name": "unienv"
  },
  "language_info": {
   "codemirror_mode": {
    "name": "ipython",
    "version": 3
   },
   "file_extension": ".py",
   "mimetype": "text/x-python",
   "name": "python",
   "nbconvert_exporter": "python",
   "pygments_lexer": "ipython3",
   "version": "3.10.9"
  },
  "vscode": {
   "interpreter": {
    "hash": "a4b77f993ba6b6ea4eb3761684e7ca501a2543df44d76187b7f760112c07c75c"
   }
  }
 },
 "nbformat": 4,
 "nbformat_minor": 2
}
