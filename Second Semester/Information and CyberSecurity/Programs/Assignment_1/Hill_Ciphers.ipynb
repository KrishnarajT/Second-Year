{
 "cells": [
  {
   "cell_type": "markdown",
   "metadata": {},
   "source": [
    "# We'll try to write the alg for Hill Cipher"
   ]
  },
  {
   "cell_type": "markdown",
   "metadata": {},
   "source": [
    "Defining Basic Given Stuff"
   ]
  },
  {
   "cell_type": "code",
   "execution_count": 16,
   "metadata": {},
   "outputs": [
    {
     "name": "stdout",
     "output_type": "stream",
     "text": [
      "Here is your input: donottouch\n",
      "The Hill Cipher for your Input is:  hsrshheksx\n"
     ]
    }
   ],
   "source": [
    "import numpy as np\n",
    "hill_cipher = []\n",
    "chosen_matrix = np.array([[1, 2],\n",
    "                          [0, 3]])\n",
    "\n",
    "given_text = input(\"Enter the Text to Encode\").lower().replace(' ', '')\n",
    "\n",
    "# Add Dummy character if odd\n",
    "if len(given_text) % 2 == 1:\n",
    "    given_text = given_text + '#'\n",
    "\n",
    "print(\"Here is your input:\", given_text)\n",
    "\n",
    "# convert to column matrix with alphanumeric equivalent\n",
    "paired_up = [np.array([[ord(given_text[i]) - 96, ord(given_text[i+1]) - 96]]).T for i in range(0, len(given_text), 2)]\n",
    "\n",
    "for i in range(len(paired_up)):\n",
    "    multiplied_pair_result = np.matmul(chosen_matrix, paired_up[i])\n",
    "    \n",
    "    # Convert back to character and append to final answer\n",
    "    hill_cipher.append([chr((int(i)) % 26 + 96) for i in multiplied_pair_result])\n",
    "    \n",
    "# Flatten the array\n",
    "hill_cipher = [val for sublist in hill_cipher for val in sublist]\n",
    "print(\"The Hill Cipher for your Input is: \", ''.join(hill_cipher))"
   ]
  },
  {
   "cell_type": "code",
   "execution_count": 2,
   "metadata": {},
   "outputs": [
    {
     "name": "stdout",
     "output_type": "stream",
     "text": [
      "i\n",
      "l\n",
      "r\n",
      "e\n"
     ]
    }
   ],
   "source": [
    "for i in hill_cipher:\n",
    "    for j in i:\n",
    "        print(j)"
   ]
  },
  {
   "cell_type": "code",
   "execution_count": 3,
   "metadata": {},
   "outputs": [
    {
     "name": "stdout",
     "output_type": "stream",
     "text": [
      "[[ 4]\n",
      " [15]]\n"
     ]
    }
   ],
   "source": [
    "a = np.array([[4, 15]]).T\n",
    "print(a)"
   ]
  },
  {
   "cell_type": "code",
   "execution_count": 4,
   "metadata": {},
   "outputs": [],
   "source": [
    "multiplied = np.matmul(chosen_matrix, a)"
   ]
  },
  {
   "cell_type": "code",
   "execution_count": 5,
   "metadata": {},
   "outputs": [],
   "source": [
    "hill_cipher = [chr((int(i)) % 26 + 96) for i in multiplied]"
   ]
  },
  {
   "cell_type": "code",
   "execution_count": 6,
   "metadata": {},
   "outputs": [
    {
     "data": {
      "text/plain": [
       "1"
      ]
     },
     "execution_count": 6,
     "metadata": {},
     "output_type": "execute_result"
    }
   ],
   "source": [
    "ord('a')-96"
   ]
  },
  {
   "cell_type": "code",
   "execution_count": 7,
   "metadata": {},
   "outputs": [
    {
     "data": {
      "text/plain": [
       "['h', 's']"
      ]
     },
     "execution_count": 7,
     "metadata": {},
     "output_type": "execute_result"
    }
   ],
   "source": [
    "hill_cipher"
   ]
  },
  {
   "cell_type": "markdown",
   "metadata": {},
   "source": [
    "## Now trying the deciphering Alg"
   ]
  },
  {
   "cell_type": "code",
   "execution_count": 100,
   "metadata": {},
   "outputs": [
    {
     "name": "stdout",
     "output_type": "stream",
     "text": [
      "[[1 2]\n",
      " [0 3]]\n",
      "The inverse is\n",
      "[[ 1.         -0.66666667]\n",
      " [ 0.          0.33333333]]\n",
      "1\n",
      "25\n",
      "0\n",
      "0\n",
      "3\n"
     ]
    }
   ],
   "source": [
    "cipher_text = 'hsrshheksx'.lower()\n",
    "chosen_matrix = np.array([[1, 2],\n",
    "                          [0, 3]])\n",
    "print(chosen_matrix)\n",
    "inverse_matrix = np.linalg.inv(chosen_matrix)\n",
    "print(\"The inverse is\")\n",
    "print(inverse_matrix) # but this is not modded with 26\n",
    "\n",
    "for i in inverse_matrix:\n",
    "    for j in i:\n",
    "        print(round(j%26))\n",
    "\n",
    "print(round(np.linalg.det(chosen_matrix))%26)\n",
    "        \n"
   ]
  },
  {
   "cell_type": "code",
   "execution_count": 101,
   "metadata": {},
   "outputs": [
    {
     "name": "stdout",
     "output_type": "stream",
     "text": [
      "[[ 3. -2.]\n",
      " [ 0.  1.]]\n",
      "25.333333333333332\n",
      "[[ 1.         -0.66666667]\n",
      " [ 0.          0.33333333]]\n"
     ]
    }
   ],
   "source": [
    "adjoint_matrix = np.dot(inverse_matrix, round(np.linalg.det(chosen_matrix)))\n",
    "print(adjoint_matrix)\n",
    "print(inverse_matrix[0][1]%26)\n",
    "print(np.divide(adjoint_matrix, np.linalg.det(chosen_matrix)))"
   ]
  },
  {
   "cell_type": "code",
   "execution_count": 102,
   "metadata": {},
   "outputs": [],
   "source": [
    "paired_up = [np.array([[ord(cipher_text[i]) - 96, ord(cipher_text[i+1]) - 96]]).T for i in range(0, len(cipher_text), 2)]"
   ]
  },
  {
   "cell_type": "code",
   "execution_count": 103,
   "metadata": {},
   "outputs": [
    {
     "data": {
      "text/plain": [
       "[array([[ 8],\n",
       "        [19]]),\n",
       " array([[18],\n",
       "        [19]]),\n",
       " array([[8],\n",
       "        [8]]),\n",
       " array([[ 5],\n",
       "        [11]]),\n",
       " array([[19],\n",
       "        [24]])]"
      ]
     },
     "execution_count": 103,
     "metadata": {},
     "output_type": "execute_result"
    }
   ],
   "source": [
    "paired_up"
   ]
  },
  {
   "cell_type": "code",
   "execution_count": 39,
   "metadata": {},
   "outputs": [
    {
     "data": {
      "text/plain": [
       "array([[-4.66666667],\n",
       "       [ 6.33333333]])"
      ]
     },
     "execution_count": 39,
     "metadata": {},
     "output_type": "execute_result"
    }
   ],
   "source": [
    "np.matmul(inverse_matrix, paired_up[0])"
   ]
  },
  {
   "cell_type": "code",
   "execution_count": 145,
   "metadata": {},
   "outputs": [
    {
     "name": "stdout",
     "output_type": "stream",
     "text": [
      "Here is your input: \n"
     ]
    },
    {
     "data": {
      "text/plain": [
       "[]"
      ]
     },
     "execution_count": 145,
     "metadata": {},
     "output_type": "execute_result"
    }
   ],
   "source": [
    "hill_cipher = []\n",
    "chosen_matrix = np.array([[1, 2],\n",
    "                          [0, 3]])\n",
    "\n",
    "given_text = input(\"Enter the Text to Encode\").lower().replace(' ', '')\n",
    "\n",
    "# Add Dummy character if odd\n",
    "if len(given_text) % 2 == 1:\n",
    "    given_text = given_text + '#'\n",
    "\n",
    "print(\"Here is your input:\", given_text)\n",
    "\n",
    "# convert to column matrix with alphanumeric equivalent\n",
    "paired_up = [np.array([[ord(given_text[i]) - 96, ord(given_text[i+1]) - 96]]).T for i in range(0, len(given_text), 2)]\n",
    "paired_up"
   ]
  },
  {
   "cell_type": "code",
   "execution_count": 61,
   "metadata": {},
   "outputs": [
    {
     "data": {
      "text/plain": [
       "0"
      ]
     },
     "execution_count": 61,
     "metadata": {},
     "output_type": "execute_result"
    }
   ],
   "source": [
    "4 % 2"
   ]
  },
  {
   "cell_type": "code",
   "execution_count": 69,
   "metadata": {},
   "outputs": [
    {
     "data": {
      "text/plain": [
       "1"
      ]
     },
     "execution_count": 69,
     "metadata": {},
     "output_type": "execute_result"
    }
   ],
   "source": [
    "-5 % 2"
   ]
  },
  {
   "cell_type": "code",
   "execution_count": 71,
   "metadata": {},
   "outputs": [
    {
     "data": {
      "text/plain": [
       "1.2000000000000002"
      ]
     },
     "execution_count": 71,
     "metadata": {},
     "output_type": "execute_result"
    }
   ],
   "source": [
    "5.2 % 2"
   ]
  },
  {
   "cell_type": "code",
   "execution_count": 74,
   "metadata": {},
   "outputs": [
    {
     "data": {
      "text/plain": [
       "2"
      ]
     },
     "execution_count": 74,
     "metadata": {},
     "output_type": "execute_result"
    }
   ],
   "source": [
    "2%26"
   ]
  },
  {
   "cell_type": "code",
   "execution_count": 75,
   "metadata": {},
   "outputs": [
    {
     "data": {
      "text/plain": [
       "-0.07692307692307693"
      ]
     },
     "execution_count": 75,
     "metadata": {},
     "output_type": "execute_result"
    }
   ],
   "source": [
    "-2/26"
   ]
  },
  {
   "cell_type": "code",
   "execution_count": 106,
   "metadata": {},
   "outputs": [
    {
     "data": {
      "text/plain": [
       "3.0000000000000004"
      ]
     },
     "execution_count": 106,
     "metadata": {},
     "output_type": "execute_result"
    }
   ],
   "source": [
    "np.linalg.det(chosen_matrix)"
   ]
  },
  {
   "cell_type": "code",
   "execution_count": 104,
   "metadata": {},
   "outputs": [],
   "source": [
    "some_shit = np.dot(adjoint_matrix, 9)"
   ]
  },
  {
   "cell_type": "code",
   "execution_count": 105,
   "metadata": {},
   "outputs": [
    {
     "name": "stdout",
     "output_type": "stream",
     "text": [
      "1\n",
      "8\n",
      "0\n",
      "9\n"
     ]
    }
   ],
   "source": [
    "for i in some_shit:\n",
    "    for j in i:\n",
    "        print(round(j%26))"
   ]
  },
  {
   "cell_type": "code",
   "execution_count": 89,
   "metadata": {},
   "outputs": [
    {
     "data": {
      "text/plain": [
       "1"
      ]
     },
     "execution_count": 89,
     "metadata": {},
     "output_type": "execute_result"
    }
   ],
   "source": [
    "%26"
   ]
  },
  {
   "cell_type": "markdown",
   "metadata": {},
   "source": [
    "## Alright after all that lets start again"
   ]
  },
  {
   "cell_type": "code",
   "execution_count": 150,
   "metadata": {},
   "outputs": [
    {
     "name": "stdout",
     "output_type": "stream",
     "text": [
      "[[5 6]\n",
      " [2 3]]\n"
     ]
    }
   ],
   "source": [
    "cipher_text = 'GTNKGKDUSK'.lower()\n",
    "chosen_matrix = np.array([[5, 6],\n",
    "                          [2, 3]])\n",
    "print(chosen_matrix)"
   ]
  },
  {
   "cell_type": "markdown",
   "metadata": {},
   "source": [
    "## First we find the adjoint of the matrix, and then the determinant of the chosen matrix"
   ]
  },
  {
   "cell_type": "code",
   "execution_count": 151,
   "metadata": {},
   "outputs": [
    {
     "name": "stdout",
     "output_type": "stream",
     "text": [
      "the adjoint of the matrix is\n"
     ]
    },
    {
     "data": {
      "text/plain": [
       "array([[ 3., -6.],\n",
       "       [-2.,  5.]])"
      ]
     },
     "execution_count": 151,
     "metadata": {},
     "output_type": "execute_result"
    }
   ],
   "source": [
    "print(\"the adjoint of the matrix is\")\n",
    "determinant = round(np.linalg.det(chosen_matrix))\n",
    "inverse_matrix = np.linalg.inv(chosen_matrix)\n",
    "adjoint_matrix = np.dot(inverse_matrix, determinant)\n",
    "adjoint_matrix"
   ]
  },
  {
   "cell_type": "markdown",
   "metadata": {},
   "source": [
    "## then we find the multiplicative inverse of the determinant module n"
   ]
  },
  {
   "cell_type": "markdown",
   "metadata": {},
   "source": [
    "Extended Eucleadean Algorithm is used to find the number x which when multiplied with the determinant, and then the result modded with n, will give you 1"
   ]
  },
  {
   "cell_type": "markdown",
   "metadata": {},
   "source": [
    "This inverse mod n is only possible when the GCD(n, determinant) is 1, which is like guaranteed if n is prime, obviously."
   ]
  },
  {
   "cell_type": "code",
   "execution_count": 152,
   "metadata": {},
   "outputs": [],
   "source": [
    "# function for extended Euclidean Algorithm \n",
    "def gcdExtended(a, b): \n",
    "    # Base Case \n",
    "    if a == 0 :  \n",
    "        return b,0,1\n",
    "             \n",
    "    gcd,x1,y1 = gcdExtended(b%a, a) \n",
    "\n",
    "    # Update x and y using results of recursive call\n",
    "    x = y1 - (b//a) * x1 \n",
    "    y = x1 \n",
    "    return gcd,x,y"
   ]
  },
  {
   "cell_type": "code",
   "execution_count": 153,
   "metadata": {},
   "outputs": [
    {
     "name": "stdout",
     "output_type": "stream",
     "text": [
      "the multiplicative inverse mod 26 of the determinant is 9\n"
     ]
    }
   ],
   "source": [
    "gcd, x, mul_inverse = gcdExtended(26, determinant)\n",
    "print('the multiplicative inverse mod 26 of the determinant is', mul_inverse)"
   ]
  },
  {
   "cell_type": "markdown",
   "metadata": {},
   "source": [
    "## then we multiply that number x with the entire adjoint matrix"
   ]
  },
  {
   "cell_type": "code",
   "execution_count": 154,
   "metadata": {},
   "outputs": [
    {
     "data": {
      "text/plain": [
       "array([[ 27., -54.],\n",
       "       [-18.,  45.]])"
      ]
     },
     "execution_count": 154,
     "metadata": {},
     "output_type": "execute_result"
    }
   ],
   "source": [
    "inverse_mod_matrix = np.dot(adjoint_matrix, mul_inverse)\n",
    "inverse_mod_matrix"
   ]
  },
  {
   "cell_type": "markdown",
   "metadata": {},
   "source": [
    "## then we find mod n of the resulting matrix"
   ]
  },
  {
   "cell_type": "code",
   "execution_count": 155,
   "metadata": {},
   "outputs": [
    {
     "data": {
      "text/plain": [
       "array([[ 1., 24.],\n",
       "       [ 8., 19.]])"
      ]
     },
     "execution_count": 155,
     "metadata": {},
     "output_type": "execute_result"
    }
   ],
   "source": [
    "for i in range(2):\n",
    "    for j in range(2):\n",
    "        inverse_mod_matrix[i][j] = inverse_mod_matrix[i][j] % 26\n",
    "inverse_mod_matrix"
   ]
  },
  {
   "cell_type": "markdown",
   "metadata": {},
   "source": [
    "## Now we pair the cipher text, and then convert them to column matrixes"
   ]
  },
  {
   "cell_type": "code",
   "execution_count": 161,
   "metadata": {},
   "outputs": [
    {
     "data": {
      "text/plain": [
       "[array([[ 7],\n",
       "        [20]]),\n",
       " array([[14],\n",
       "        [11]]),\n",
       " array([[ 7],\n",
       "        [11]]),\n",
       " array([[ 4],\n",
       "        [21]]),\n",
       " array([[19],\n",
       "        [11]])]"
      ]
     },
     "execution_count": 161,
     "metadata": {},
     "output_type": "execute_result"
    }
   ],
   "source": [
    "paired_up = [np.array([[ord(cipher_text[i]) - 96, ord(cipher_text[i+1]) - 96]]).T \\\n",
    "                for i in range(0, len(cipher_text), 2)]"
   ]
  },
  {
   "cell_type": "code",
   "execution_count": 218,
   "metadata": {},
   "outputs": [
    {
     "name": "stdout",
     "output_type": "stream",
     "text": [
      "The Decrypted Text is:  strikenoww\n"
     ]
    }
   ],
   "source": [
    "hill_decipher = []\n",
    "import math\n",
    "for i in paired_up:\n",
    "    multiplied_matrix = np.matmul(inverse_mod_matrix, i)\n",
    "    for i in range(2):\n",
    "        multiplied_matrix[i] = multiplied_matrix[i] % 26\n",
    "    for i in multiplied_matrix:\n",
    "        hill_decipher.append(chr(round(i[0]) + 96))\n",
    "print(\"The Decrypted Text is: \", ''.join(hill_decipher))"
   ]
  },
  {
   "cell_type": "code",
   "execution_count": 224,
   "metadata": {},
   "outputs": [
    {
     "name": "stdout",
     "output_type": "stream",
     "text": [
      "Your input is:  gtnkgkdusk\n",
      "chosen Matrix is: \n",
      "[[5 6]\n",
      " [2 3]]\n",
      "The Decrypted Text is:  strikenoww\n"
     ]
    }
   ],
   "source": [
    "cipher_text = 'GTNKGKDUSK'.lower()\n",
    "chosen_matrix = np.array([[5, 6],\n",
    "                          [2, 3]])\n",
    "print(\"Your input is: \", cipher_text)\n",
    "print(\"chosen Matrix is: \")\n",
    "print(chosen_matrix)\n",
    "\n",
    "# function for extended Euclidean Algorithm \n",
    "# Extended Eucleadean Algorithm is used to find the number x \n",
    "# which when multiplied with the determinant, and then the result\n",
    "# modded with n, will give you 1\n",
    "\n",
    "def gcdExtended(a, b): \n",
    "    # Base Case \n",
    "    if a == 0 :  \n",
    "        return b,0,1\n",
    "             \n",
    "    gcd,x1,y1 = gcdExtended(b%a, a) \n",
    "\n",
    "    # Update x and y using results of recursive call\n",
    "    x = y1 - (b//a) * x1 \n",
    "    y = x1 \n",
    "    return gcd,x,y\n",
    "\n",
    "\n",
    "\n",
    "# First we find the adjoint of the matrix, and then the determinant of the chosen matrix\n",
    "\n",
    "determinant = round(np.linalg.det(chosen_matrix))\n",
    "inverse_matrix = np.linalg.inv(chosen_matrix)\n",
    "adjoint_matrix = np.dot(inverse_matrix, determinant)\n",
    "\n",
    "# then we find the multiplicative inverse of the determinant module n\n",
    "\n",
    "gcd, x, mul_inverse = gcdExtended(26, determinant)\n",
    "\n",
    "# then we multiply that number x with the entire adjoint matrix\n",
    "\n",
    "inverse_mod_matrix = np.dot(adjoint_matrix, mul_inverse)\n",
    "\n",
    "# then we find mod 26 of the resulting matrix\n",
    "\n",
    "for i in range(2):\n",
    "    for j in range(2):\n",
    "        inverse_mod_matrix[i][j] = inverse_mod_matrix[i][j] % 26\n",
    "\n",
    "## Now we pair the cipher text, and then convert them to column matrixes\n",
    "\n",
    "paired_up = [np.array([[ord(cipher_text[i]) - 96, ord(cipher_text[i+1]) - 96]]).T \\\n",
    "                for i in range(0, len(cipher_text), 2)]\n",
    "\n",
    "# Finally simply decipher them back to their alphanumeric values\n",
    "\n",
    "hill_decipher = []\n",
    "import math\n",
    "for i in paired_up:\n",
    "    multiplied_matrix = np.matmul(inverse_mod_matrix, i)\n",
    "    for i in range(2):\n",
    "        multiplied_matrix[i] = multiplied_matrix[i] % 26\n",
    "    for i in multiplied_matrix:\n",
    "        hill_decipher.append(chr(round(i[0]) + 96))\n",
    "print(\"The Decrypted Text is: \", ''.join(hill_decipher))\n"
   ]
  },
  {
   "cell_type": "code",
   "execution_count": null,
   "metadata": {},
   "outputs": [],
   "source": []
  }
 ],
 "metadata": {
  "interpreter": {
   "hash": "ca58f56f4797dd41bfb4f0bfd9d1a967c677a6e57373eaf187ec90c4cab5783d"
  },
  "kernelspec": {
   "display_name": "Python 3.10.2 ('ExpVenv_Arch': venv)",
   "language": "python",
   "name": "python3"
  },
  "language_info": {
   "codemirror_mode": {
    "name": "ipython",
    "version": 3
   },
   "file_extension": ".py",
   "mimetype": "text/x-python",
   "name": "python",
   "nbconvert_exporter": "python",
   "pygments_lexer": "ipython3",
   "version": "3.8.8"
  },
  "orig_nbformat": 4
 },
 "nbformat": 4,
 "nbformat_minor": 2
}
