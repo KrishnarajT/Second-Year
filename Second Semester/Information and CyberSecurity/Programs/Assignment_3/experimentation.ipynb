{
 "cells": [
  {
   "cell_type": "code",
   "execution_count": 10,
   "metadata": {},
   "outputs": [
    {
     "ename": "TypeError",
     "evalue": "ord() expected a character, but string of length 10 found",
     "output_type": "error",
     "traceback": [
      "\u001b[0;31m---------------------------------------------------------------------------\u001b[0m",
      "\u001b[0;31mTypeError\u001b[0m                                 Traceback (most recent call last)",
      "Cell \u001b[0;32mIn [10], line 2\u001b[0m\n\u001b[1;32m      1\u001b[0m a \u001b[39m=\u001b[39m \u001b[39m\"\u001b[39m\u001b[39mhelloHELLO\u001b[39m\u001b[39m\"\u001b[39m\n\u001b[0;32m----> 2\u001b[0m \u001b[39mord\u001b[39;49m(a)\n",
      "\u001b[0;31mTypeError\u001b[0m: ord() expected a character, but string of length 10 found"
     ]
    }
   ],
   "source": [
    "a = \"helloHELLO\"\n",
    "ord(a)"
   ]
  },
  {
   "cell_type": "code",
   "execution_count": 24,
   "metadata": {},
   "outputs": [
    {
     "data": {
      "text/plain": [
       "98"
      ]
     },
     "execution_count": 24,
     "metadata": {},
     "output_type": "execute_result"
    }
   ],
   "source": [
    "ord(\"b\")"
   ]
  },
  {
   "cell_type": "code",
   "execution_count": 21,
   "metadata": {},
   "outputs": [],
   "source": [
    "a = 'A'"
   ]
  },
  {
   "cell_type": "code",
   "execution_count": 22,
   "metadata": {},
   "outputs": [
    {
     "data": {
      "text/plain": [
       "False"
      ]
     },
     "execution_count": 22,
     "metadata": {},
     "output_type": "execute_result"
    }
   ],
   "source": [
    "a.islower()"
   ]
  },
  {
   "cell_type": "code",
   "execution_count": 25,
   "metadata": {},
   "outputs": [
    {
     "data": {
      "text/plain": [
       "'a'"
      ]
     },
     "execution_count": 25,
     "metadata": {},
     "output_type": "execute_result"
    }
   ],
   "source": [
    "chr(97)"
   ]
  },
  {
   "cell_type": "code",
   "execution_count": 37,
   "metadata": {},
   "outputs": [],
   "source": [
    "\n",
    "def get_ascii(some_char):\n",
    "    if (some_char.islower()):\n",
    "        return ord(some_char) - 97\n",
    "    elif (some_char.isupper()):\n",
    "        return ord(some_char) - 65\n",
    "    else:\n",
    "        return -1\n",
    "\n",
    "\n",
    "def ceaser_cipher(plain_text, key):\n",
    "    cipher_letter = ''\n",
    "    cipher = []\n",
    "    for i in plain_text:\n",
    "        if (i.islower()):\n",
    "            cipher_letter = chr(((get_ascii(i) + key) % 26) + 97).upper()\n",
    "        else:\n",
    "            cipher_letter = chr(((get_ascii(i) + key) % 26) + 65).lower()\n",
    "\n",
    "        cipher.append(cipher_letter)\n",
    "    return cipher\n",
    "\n",
    "\n",
    "\n",
    "\n",
    "def is_valid(plain_text):\n",
    "    if (plain_text.isalpha()):\n",
    "        return True\n",
    "    else:\n",
    "        return False\n",
    "\n",
    "\n",
    "def main():\n",
    "    plain_text = '1'\n",
    "    key = -1\n",
    "\n",
    "    print(\"Welcome to Assignment 1 in Information and CyberSecurity, working with Ceaser Ciphers. \")\n",
    "    print(\"Enter the string that you want to Cipher. \")\n",
    "\n",
    "    # take inputs from the user.\n",
    "\n",
    "    while (not is_valid(plain_text)):\n",
    "        plain_text = input()\n",
    "\n",
    "    while (key <= 0 or key >= 26):\n",
    "        key = int(input(\"Enter the key : \"))\n",
    "\n",
    "    print(\"Applying the Ceaser Cipher to it. \")\n",
    "    cipher_text = ceaser_cipher(plain_text, key)\n",
    "    print(cipher_text)\n",
    "    return\n"
   ]
  },
  {
   "cell_type": "code",
   "execution_count": 38,
   "metadata": {},
   "outputs": [
    {
     "data": {
      "text/plain": [
       "1"
      ]
     },
     "execution_count": 38,
     "metadata": {},
     "output_type": "execute_result"
    }
   ],
   "source": [
    "get_ascii('B')"
   ]
  },
  {
   "cell_type": "code",
   "execution_count": 40,
   "metadata": {},
   "outputs": [
    {
     "data": {
      "text/plain": [
       "'\\x03'"
      ]
     },
     "execution_count": 40,
     "metadata": {},
     "output_type": "execute_result"
    }
   ],
   "source": [
    "chr((get_ascii('a') + 3) % 26)\n"
   ]
  },
  {
   "cell_type": "code",
   "execution_count": 39,
   "metadata": {},
   "outputs": [
    {
     "data": {
      "text/plain": [
       "3"
      ]
     },
     "execution_count": 39,
     "metadata": {},
     "output_type": "execute_result"
    }
   ],
   "source": [
    "(get_ascii('a') + 3) % 26\n"
   ]
  },
  {
   "cell_type": "code",
   "execution_count": 45,
   "metadata": {},
   "outputs": [
    {
     "data": {
      "text/plain": [
       "'d'"
      ]
     },
     "execution_count": 45,
     "metadata": {},
     "output_type": "execute_result"
    }
   ],
   "source": [
    "chr(((get_ascii('A') + 3) % 26) + 97).lower()\n"
   ]
  },
  {
   "cell_type": "code",
   "execution_count": 52,
   "metadata": {},
   "outputs": [],
   "source": [
    "a = 'a d'"
   ]
  },
  {
   "cell_type": "code",
   "execution_count": 49,
   "metadata": {},
   "outputs": [],
   "source": [
    "def is_valid(plain_text):\n",
    "    for i in plain_text.split(' '):\n",
    "        if (not i.isalpha()):\n",
    "            return False\n",
    "    return True"
   ]
  },
  {
   "cell_type": "code",
   "execution_count": 56,
   "metadata": {},
   "outputs": [
    {
     "name": "stdout",
     "output_type": "stream",
     "text": [
      "a\n",
      "d\n"
     ]
    }
   ],
   "source": [
    "for i in a.split(' '):\n",
    "    print(i)"
   ]
  },
  {
   "cell_type": "code",
   "execution_count": 1,
   "metadata": {},
   "outputs": [],
   "source": [
    "binary_to_decimal = {(0, 0): 0, (0, 1): 1, (1, 0): 2, (1, 1): 3}"
   ]
  },
  {
   "cell_type": "code",
   "execution_count": 10,
   "metadata": {},
   "outputs": [
    {
     "data": {
      "text/plain": [
       "3"
      ]
     },
     "execution_count": 10,
     "metadata": {},
     "output_type": "execute_result"
    }
   ],
   "source": [
    "list(binary_to_decimal.values()).index(3)"
   ]
  },
  {
   "cell_type": "code",
   "execution_count": 13,
   "metadata": {},
   "outputs": [
    {
     "data": {
      "text/plain": [
       "(1, 1)"
      ]
     },
     "execution_count": 13,
     "metadata": {},
     "output_type": "execute_result"
    }
   ],
   "source": [
    "list(binary_to_decimal.keys())[3]"
   ]
  },
  {
   "cell_type": "code",
   "execution_count": 1,
   "metadata": {},
   "outputs": [
    {
     "data": {
      "text/plain": [
       "'0b1'"
      ]
     },
     "execution_count": 1,
     "metadata": {},
     "output_type": "execute_result"
    }
   ],
   "source": [
    "bin(0x1)"
   ]
  },
  {
   "cell_type": "code",
   "execution_count": 28,
   "metadata": {},
   "outputs": [],
   "source": [
    "\n",
    "def decimal_to_binary(ip_val, reqBits):\n",
    "    \"\"\"Function to convert decimal to binary. Returns a list that has integers 0 and 1 represented in binary. \n",
    "\n",
    "    Args:\n",
    "        ip_val (_type_): input_value in decimal. \n",
    "        reqBits (_type_: required number of bits in the output. 4, 8, etc. \n",
    "    \"\"\"\n",
    "    def decimalToBinary_rec(ip_val, list):\n",
    "        if ip_val >= 1:\n",
    "            # recursive function call\n",
    "            decimalToBinary_rec(ip_val // 2, list)\n",
    "        list.append(ip_val % 2)\n",
    "\n",
    "    list = []\n",
    "    decimalToBinary_rec(ip_val, list)\n",
    "    if len(list) < reqBits:\n",
    "        while len(list) < reqBits:\n",
    "            list.insert(0, 0)\n",
    "    if len(list) > reqBits:\n",
    "        list = list.remove(0)\n",
    "    return list\n"
   ]
  },
  {
   "cell_type": "code",
   "execution_count": 24,
   "metadata": {},
   "outputs": [],
   "source": [
    "sth = []\n",
    "decimalToBinary(10, sth)"
   ]
  },
  {
   "cell_type": "code",
   "execution_count": 25,
   "metadata": {},
   "outputs": [
    {
     "data": {
      "text/plain": [
       "[0, 1, 0, 1, 0]"
      ]
     },
     "execution_count": 25,
     "metadata": {},
     "output_type": "execute_result"
    }
   ],
   "source": [
    "sth"
   ]
  },
  {
   "cell_type": "code",
   "execution_count": 3,
   "metadata": {},
   "outputs": [
    {
     "data": {
      "text/plain": [
       "2"
      ]
     },
     "execution_count": 3,
     "metadata": {},
     "output_type": "execute_result"
    }
   ],
   "source": [
    "int('0010', base=2)"
   ]
  },
  {
   "cell_type": "code",
   "execution_count": 3,
   "metadata": {},
   "outputs": [
    {
     "data": {
      "text/plain": [
       "'0x61'"
      ]
     },
     "execution_count": 3,
     "metadata": {},
     "output_type": "execute_result"
    }
   ],
   "source": [
    "hex(97)"
   ]
  },
  {
   "cell_type": "code",
   "execution_count": 4,
   "metadata": {},
   "outputs": [
    {
     "data": {
      "text/plain": [
       "97"
      ]
     },
     "execution_count": 4,
     "metadata": {},
     "output_type": "execute_result"
    }
   ],
   "source": [
    "int('0x61', base=16)"
   ]
  },
  {
   "cell_type": "code",
   "execution_count": 5,
   "metadata": {},
   "outputs": [
    {
     "name": "stdout",
     "output_type": "stream",
     "text": [
      "0\n",
      "2\n",
      "4\n",
      "6\n",
      "8\n"
     ]
    }
   ],
   "source": [
    "for i in range(0, 10, 2):\n",
    "    print(i)"
   ]
  },
  {
   "cell_type": "code",
   "execution_count": 3,
   "metadata": {},
   "outputs": [
    {
     "name": "stdout",
     "output_type": "stream",
     "text": [
      "Connected by ('172.16.229.75', 54739)\n",
      "b'Hello, world'\n",
      "b''\n"
     ]
    }
   ],
   "source": [
    "# echo-server.py\n",
    "\n",
    "import socket\n",
    "\n",
    "HOST = \"172.16.229.41\"  # Standard loopback interface address (localhost)\n",
    "PORT = 65433  # Port to listen on (non-privileged ports are > 1023)\n",
    "\n",
    "with socket.socket(socket.AF_INET, socket.SOCK_STREAM) as s:\n",
    "    s.bind((HOST, PORT))\n",
    "    s.listen()\n",
    "    conn, addr = s.accept()\n",
    "    with conn:\n",
    "        print(f\"Connected by {addr}\")\n",
    "        while True:\n",
    "            data = conn.recv(1024)\n",
    "            print(data)\n",
    "            if not data:\n",
    "                break\n",
    "            conn.sendall(b\"https://www.thepythoncode.com/code/make-a-chat-room-application-in-python\")"
   ]
  },
  {
   "cell_type": "code",
   "execution_count": 1,
   "metadata": {},
   "outputs": [
    {
     "name": "stdout",
     "output_type": "stream",
     "text": [
      "[*] Listening as 172.16.229.41:65433\n",
      "[+] ('172.16.229.75', 56310) connected.\n",
      "[+] ('172.16.229.64', 55354) connected.\n",
      "[+] ('172.16.229.75', 56344) connected.\n"
     ]
    }
   ],
   "source": [
    "import socket\n",
    "from threading import Thread\n",
    "\n",
    "# server's IP address\n",
    "SERVER_HOST = \"172.16.229.41\"\n",
    "SERVER_PORT = 65433 # port we want to use\n",
    "separator_token = \"<SEP>\" # we will use this to separate the client name & message\n",
    "\n",
    "# initialize list/set of all connected client's sockets\n",
    "client_sockets = set()\n",
    "# create a TCP socket\n",
    "s = socket.socket()\n",
    "# make the port as reusable port\n",
    "s.setsockopt(socket.SOL_SOCKET, socket.SO_REUSEADDR, 1)\n",
    "# bind the socket to the address we specified\n",
    "s.bind((SERVER_HOST, SERVER_PORT))\n",
    "# listen for upcoming connections\n",
    "s.listen(5)\n",
    "print(f\"[*] Listening as {SERVER_HOST}:{SERVER_PORT}\")\n",
    "\n",
    "def listen_for_client(cs):\n",
    "    \"\"\"\n",
    "    This function keep listening for a message from `cs` socket\n",
    "    Whenever a message is received, broadcast it to all other connected clients\n",
    "    \"\"\"\n",
    "    while True:\n",
    "        try:\n",
    "            # keep listening for a message from `cs` socket\n",
    "            msg = cs.recv(1024).decode()\n",
    "        except Exception as e:\n",
    "            # client no longer connected\n",
    "            # remove it from the set\n",
    "            print(f\"[!] Error: {e}\")\n",
    "            client_sockets.remove(cs)\n",
    "        else:\n",
    "            # if we received a message, replace the <SEP> \n",
    "            # token with \": \" for nice printing\n",
    "            msg = msg.replace(separator_token, \": \")\n",
    "        # iterate over all connected sockets\n",
    "        for client_socket in client_sockets:\n",
    "            # and send the message\n",
    "            client_socket.send(msg.encode())\n",
    "\n",
    "\n",
    "while True:\n",
    "    # we keep listening for new connections all the time\n",
    "    client_socket, client_address = s.accept()\n",
    "    print(f\"[+] {client_address} connected.\")\n",
    "    # add the new connected client to connected sockets\n",
    "    client_sockets.add(client_socket)\n",
    "    # start a new thread that listens for each client's messages\n",
    "    t = Thread(target=listen_for_client, args=(client_socket,))\n",
    "    # make the thread daemon so it ends whenever the main thread ends\n",
    "    t.daemon = True\n",
    "    # start the thread\n",
    "    t.start()\n",
    "\n",
    "# close client sockets\n",
    "for cs in client_sockets:\n",
    "    cs.close()\n",
    "# close server socket\n",
    "s.close()"
   ]
  },
  {
   "cell_type": "code",
   "execution_count": 11,
   "metadata": {},
   "outputs": [],
   "source": [
    "import os\n",
    "to_write = bytearray([])\n",
    "with open(os.path.join(os.getcwd(), 'sunset.mp4'), \"rb\") as file:\n",
    "    byte = file.read()\n",
    "    for i in range(0, len(byte)):\n",
    "        to_write.append(byte[i] ^ 0x1)\n",
    "\n"
   ]
  },
  {
   "cell_type": "code",
   "execution_count": 12,
   "metadata": {},
   "outputs": [],
   "source": [
    "with open(os.path.join(os.getcwd(), 'sunset2.mp4'), \"wb\") as binary_file:\n",
    "    # Write bytes to file\n",
    "    binary_file.write(to_write)\n"
   ]
  },
  {
   "cell_type": "code",
   "execution_count": 29,
   "metadata": {},
   "outputs": [
    {
     "name": "stdout",
     "output_type": "stream",
     "text": [
      "0\n",
      "0\n",
      "0\n",
      "28\n",
      "102\n",
      "116\n",
      "121\n",
      "112\n",
      "77\n",
      "52\n",
      "86\n",
      "32\n",
      "0\n",
      "0\n",
      "0\n",
      "1\n",
      "105\n",
      "115\n",
      "111\n",
      "109\n",
      "97\n",
      "118\n",
      "99\n",
      "49\n",
      "109\n",
      "112\n",
      "52\n",
      "50\n",
      "0\n",
      "0\n",
      "16\n",
      "121\n",
      "109\n",
      "111\n",
      "111\n",
      "118\n",
      "0\n",
      "0\n",
      "0\n",
      "108\n",
      "109\n",
      "118\n",
      "104\n",
      "100\n",
      "0\n",
      "0\n",
      "0\n",
      "0\n",
      "218\n",
      "123\n"
     ]
    }
   ],
   "source": [
    "intarr = []\n",
    "for i in range(0, 50):\n",
    "    print(byte[i])\n",
    "    intarr.append(decimal_to_binary(byte[i], 8))"
   ]
  },
  {
   "cell_type": "code",
   "execution_count": 42,
   "metadata": {},
   "outputs": [
    {
     "data": {
      "text/plain": [
       "[[0, 0, 0, 0, 0, 0, 0, 0],\n",
       " [0, 0, 0, 0, 0, 0, 0, 0],\n",
       " [0, 0, 0, 0, 0, 0, 0, 0],\n",
       " [0, 0, 0, 1, 1, 1, 0, 0],\n",
       " [0, 1, 1, 0, 0, 1, 1, 0],\n",
       " [0, 1, 1, 1, 0, 1, 0, 0],\n",
       " [0, 1, 1, 1, 1, 0, 0, 1],\n",
       " [0, 1, 1, 1, 0, 0, 0, 0],\n",
       " [0, 1, 0, 0, 1, 1, 0, 1],\n",
       " [0, 0, 1, 1, 0, 1, 0, 0],\n",
       " [0, 1, 0, 1, 0, 1, 1, 0],\n",
       " [0, 0, 1, 0, 0, 0, 0, 0],\n",
       " [0, 0, 0, 0, 0, 0, 0, 0],\n",
       " [0, 0, 0, 0, 0, 0, 0, 0],\n",
       " [0, 0, 0, 0, 0, 0, 0, 0],\n",
       " [0, 0, 0, 0, 0, 0, 0, 1],\n",
       " [0, 1, 1, 0, 1, 0, 0, 1],\n",
       " [0, 1, 1, 1, 0, 0, 1, 1],\n",
       " [0, 1, 1, 0, 1, 1, 1, 1],\n",
       " [0, 1, 1, 0, 1, 1, 0, 1],\n",
       " [0, 1, 1, 0, 0, 0, 0, 1],\n",
       " [0, 1, 1, 1, 0, 1, 1, 0],\n",
       " [0, 1, 1, 0, 0, 0, 1, 1],\n",
       " [0, 0, 1, 1, 0, 0, 0, 1],\n",
       " [0, 1, 1, 0, 1, 1, 0, 1],\n",
       " [0, 1, 1, 1, 0, 0, 0, 0],\n",
       " [0, 0, 1, 1, 0, 1, 0, 0],\n",
       " [0, 0, 1, 1, 0, 0, 1, 0],\n",
       " [0, 0, 0, 0, 0, 0, 0, 0],\n",
       " [0, 0, 0, 0, 0, 0, 0, 0],\n",
       " [0, 0, 0, 1, 0, 0, 0, 0],\n",
       " [0, 1, 1, 1, 1, 0, 0, 1],\n",
       " [0, 1, 1, 0, 1, 1, 0, 1],\n",
       " [0, 1, 1, 0, 1, 1, 1, 1],\n",
       " [0, 1, 1, 0, 1, 1, 1, 1],\n",
       " [0, 1, 1, 1, 0, 1, 1, 0],\n",
       " [0, 0, 0, 0, 0, 0, 0, 0],\n",
       " [0, 0, 0, 0, 0, 0, 0, 0],\n",
       " [0, 0, 0, 0, 0, 0, 0, 0],\n",
       " [0, 1, 1, 0, 1, 1, 0, 0],\n",
       " [0, 1, 1, 0, 1, 1, 0, 1],\n",
       " [0, 1, 1, 1, 0, 1, 1, 0],\n",
       " [0, 1, 1, 0, 1, 0, 0, 0],\n",
       " [0, 1, 1, 0, 0, 1, 0, 0],\n",
       " [0, 0, 0, 0, 0, 0, 0, 0],\n",
       " [0, 0, 0, 0, 0, 0, 0, 0],\n",
       " [0, 0, 0, 0, 0, 0, 0, 0],\n",
       " [0, 0, 0, 0, 0, 0, 0, 0],\n",
       " None,\n",
       " [0, 1, 1, 1, 1, 0, 1, 1]]"
      ]
     },
     "execution_count": 42,
     "metadata": {},
     "output_type": "execute_result"
    }
   ],
   "source": [
    "[i for i in intarr]"
   ]
  },
  {
   "cell_type": "code",
   "execution_count": 1,
   "metadata": {},
   "outputs": [],
   "source": [
    "import random\n",
    "# list of random numbers\n",
    "random_list = [random.randint(0, 100) for i in range(10)]"
   ]
  },
  {
   "cell_type": "code",
   "execution_count": 5,
   "metadata": {},
   "outputs": [
    {
     "data": {
      "text/plain": [
       "1"
      ]
     },
     "execution_count": 5,
     "metadata": {},
     "output_type": "execute_result"
    }
   ],
   "source": [
    "-159%160\n"
   ]
  },
  {
   "cell_type": "code",
   "execution_count": 6,
   "metadata": {},
   "outputs": [],
   "source": [
    "import math"
   ]
  },
  {
   "cell_type": "code",
   "execution_count": 9,
   "metadata": {},
   "outputs": [
    {
     "data": {
      "text/plain": [
       "11.0"
      ]
     },
     "execution_count": 9,
     "metadata": {},
     "output_type": "execute_result"
    }
   ],
   "source": [
    "math.pow(88, 7) % 187"
   ]
  },
  {
   "cell_type": "code",
   "execution_count": 11,
   "metadata": {},
   "outputs": [
    {
     "data": {
      "text/plain": [
       "149.0"
      ]
     },
     "execution_count": 11,
     "metadata": {},
     "output_type": "execute_result"
    }
   ],
   "source": [
    "math.pow(11, 23) % 187"
   ]
  },
  {
   "cell_type": "code",
   "execution_count": 3,
   "metadata": {},
   "outputs": [
    {
     "name": "stdout",
     "output_type": "stream",
     "text": [
      "{'id': '09', 'name': 'Nitin', 'department': 'Finance'}\n",
      "Nitin\n"
     ]
    }
   ],
   "source": [
    "\n",
    "import json\n",
    " \n",
    "# JSON string\n",
    "employee ='{\"id\":\"09\", \"name\": \"Nitin\", \"department\":\"Finance\"}'\n",
    "\n",
    "# Convert string to Python dict\n",
    "employee_dict = json.loads(employee)\n",
    "print(employee_dict)\n",
    " \n",
    "print(employee_dict['name'])"
   ]
  },
  {
   "cell_type": "code",
   "execution_count": 6,
   "metadata": {},
   "outputs": [
    {
     "name": "stdout",
     "output_type": "stream",
     "text": [
      "{\n",
      "    \"id\": \"04\",\n",
      "    \"name\": \"sunil\",\n",
      "    \"department\": \"HR\"\n",
      "}\n"
     ]
    }
   ],
   "source": [
    "import json\n",
    "  \n",
    "# Data to be written\n",
    "dictionary ={\n",
    "  \"id\": \"04\",\n",
    "  \"name\": \"sunil\",\n",
    "  \"department\": \"HR\"\n",
    "}\n",
    "  \n",
    "# Serializing json\n",
    "json_object = json.dumps(dictionary)\n",
    "print(json_object)"
   ]
  },
  {
   "cell_type": "code",
   "execution_count": 3,
   "metadata": {},
   "outputs": [],
   "source": [
    "def something(**kwargs):\n",
    "    print(kwargs.get('a'))\n"
   ]
  },
  {
   "cell_type": "code",
   "execution_count": 5,
   "metadata": {},
   "outputs": [
    {
     "name": "stdout",
     "output_type": "stream",
     "text": [
      "1\n"
     ]
    }
   ],
   "source": [
    "something(b=2, c=3, d=4, e=5, a=1)"
   ]
  },
  {
   "cell_type": "code",
   "execution_count": null,
   "metadata": {},
   "outputs": [],
   "source": []
  }
 ],
 "metadata": {
  "kernelspec": {
   "display_name": "Python 3.10.8 64-bit",
   "language": "python",
   "name": "python3"
  },
  "language_info": {
   "codemirror_mode": {
    "name": "ipython",
    "version": 3
   },
   "file_extension": ".py",
   "mimetype": "text/x-python",
   "name": "python",
   "nbconvert_exporter": "python",
   "pygments_lexer": "ipython3",
   "version": "3.10.9"
  },
  "orig_nbformat": 4,
  "vscode": {
   "interpreter": {
    "hash": "767d51c1340bd893661ea55ea3124f6de3c7a262a8b4abca0554b478b1e2ff90"
   }
  }
 },
 "nbformat": 4,
 "nbformat_minor": 2
}
